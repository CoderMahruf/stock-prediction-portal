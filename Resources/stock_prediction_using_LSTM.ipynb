{
 "cells": [
  {
   "cell_type": "code",
   "execution_count": 52,
   "id": "755b8691-90a1-489e-9f5d-60680c42bd7c",
   "metadata": {},
   "outputs": [],
   "source": [
    "import numpy as np\n",
    "import pandas as pd\n",
    "import matplotlib.pyplot as plt\n",
    "import yfinance as yf\n",
    "from datetime import datetime\n"
   ]
  },
  {
   "cell_type": "markdown",
   "id": "3ad508f2-a2b2-42d7-ab45-a8c6a2272199",
   "metadata": {},
   "source": [
    "# 1. Data Collection"
   ]
  },
  {
   "cell_type": "code",
   "execution_count": 53,
   "id": "5b457fc6-5770-402e-9445-cf68b1c99660",
   "metadata": {},
   "outputs": [
    {
     "name": "stderr",
     "output_type": "stream",
     "text": [
      "[*********************100%***********************]  1 of 1 completed\n"
     ]
    },
    {
     "data": {
      "text/html": [
       "<div>\n",
       "<style scoped>\n",
       "    .dataframe tbody tr th:only-of-type {\n",
       "        vertical-align: middle;\n",
       "    }\n",
       "\n",
       "    .dataframe tbody tr th {\n",
       "        vertical-align: top;\n",
       "    }\n",
       "\n",
       "    .dataframe thead tr th {\n",
       "        text-align: left;\n",
       "    }\n",
       "\n",
       "    .dataframe thead tr:last-of-type th {\n",
       "        text-align: right;\n",
       "    }\n",
       "</style>\n",
       "<table border=\"1\" class=\"dataframe\">\n",
       "  <thead>\n",
       "    <tr>\n",
       "      <th>Price</th>\n",
       "      <th>Close</th>\n",
       "      <th>High</th>\n",
       "      <th>Low</th>\n",
       "      <th>Open</th>\n",
       "      <th>Volume</th>\n",
       "    </tr>\n",
       "    <tr>\n",
       "      <th>Ticker</th>\n",
       "      <th>AAPL</th>\n",
       "      <th>AAPL</th>\n",
       "      <th>AAPL</th>\n",
       "      <th>AAPL</th>\n",
       "      <th>AAPL</th>\n",
       "    </tr>\n",
       "    <tr>\n",
       "      <th>Date</th>\n",
       "      <th></th>\n",
       "      <th></th>\n",
       "      <th></th>\n",
       "      <th></th>\n",
       "      <th></th>\n",
       "    </tr>\n",
       "  </thead>\n",
       "  <tbody>\n",
       "    <tr>\n",
       "      <th>2015-05-07</th>\n",
       "      <td>28.090878</td>\n",
       "      <td>28.274771</td>\n",
       "      <td>27.812793</td>\n",
       "      <td>27.980989</td>\n",
       "      <td>175763600</td>\n",
       "    </tr>\n",
       "    <tr>\n",
       "      <th>2015-05-08</th>\n",
       "      <td>28.620132</td>\n",
       "      <td>28.620132</td>\n",
       "      <td>28.281499</td>\n",
       "      <td>28.409327</td>\n",
       "      <td>222201600</td>\n",
       "    </tr>\n",
       "    <tr>\n",
       "      <th>2015-05-11</th>\n",
       "      <td>28.328588</td>\n",
       "      <td>28.606671</td>\n",
       "      <td>28.173848</td>\n",
       "      <td>28.568547</td>\n",
       "      <td>168143200</td>\n",
       "    </tr>\n",
       "    <tr>\n",
       "      <th>2015-05-12</th>\n",
       "      <td>28.227673</td>\n",
       "      <td>28.454174</td>\n",
       "      <td>27.992198</td>\n",
       "      <td>28.167121</td>\n",
       "      <td>192640000</td>\n",
       "    </tr>\n",
       "    <tr>\n",
       "      <th>2015-05-13</th>\n",
       "      <td>28.259066</td>\n",
       "      <td>28.523693</td>\n",
       "      <td>28.227669</td>\n",
       "      <td>28.290462</td>\n",
       "      <td>138776800</td>\n",
       "    </tr>\n",
       "    <tr>\n",
       "      <th>...</th>\n",
       "      <td>...</td>\n",
       "      <td>...</td>\n",
       "      <td>...</td>\n",
       "      <td>...</td>\n",
       "      <td>...</td>\n",
       "    </tr>\n",
       "    <tr>\n",
       "      <th>2025-04-30</th>\n",
       "      <td>212.500000</td>\n",
       "      <td>213.580002</td>\n",
       "      <td>206.669998</td>\n",
       "      <td>209.300003</td>\n",
       "      <td>52286500</td>\n",
       "    </tr>\n",
       "    <tr>\n",
       "      <th>2025-05-01</th>\n",
       "      <td>213.320007</td>\n",
       "      <td>214.559998</td>\n",
       "      <td>208.899994</td>\n",
       "      <td>209.080002</td>\n",
       "      <td>57365700</td>\n",
       "    </tr>\n",
       "    <tr>\n",
       "      <th>2025-05-02</th>\n",
       "      <td>205.350006</td>\n",
       "      <td>206.990005</td>\n",
       "      <td>202.160004</td>\n",
       "      <td>206.089996</td>\n",
       "      <td>101010600</td>\n",
       "    </tr>\n",
       "    <tr>\n",
       "      <th>2025-05-05</th>\n",
       "      <td>198.889999</td>\n",
       "      <td>204.100006</td>\n",
       "      <td>198.210007</td>\n",
       "      <td>203.100006</td>\n",
       "      <td>69018500</td>\n",
       "    </tr>\n",
       "    <tr>\n",
       "      <th>2025-05-06</th>\n",
       "      <td>198.509995</td>\n",
       "      <td>200.649994</td>\n",
       "      <td>197.020004</td>\n",
       "      <td>198.210007</td>\n",
       "      <td>49928900</td>\n",
       "    </tr>\n",
       "  </tbody>\n",
       "</table>\n",
       "<p>2515 rows × 5 columns</p>\n",
       "</div>"
      ],
      "text/plain": [
       "Price            Close        High         Low        Open     Volume\n",
       "Ticker            AAPL        AAPL        AAPL        AAPL       AAPL\n",
       "Date                                                                 \n",
       "2015-05-07   28.090878   28.274771   27.812793   27.980989  175763600\n",
       "2015-05-08   28.620132   28.620132   28.281499   28.409327  222201600\n",
       "2015-05-11   28.328588   28.606671   28.173848   28.568547  168143200\n",
       "2015-05-12   28.227673   28.454174   27.992198   28.167121  192640000\n",
       "2015-05-13   28.259066   28.523693   28.227669   28.290462  138776800\n",
       "...                ...         ...         ...         ...        ...\n",
       "2025-04-30  212.500000  213.580002  206.669998  209.300003   52286500\n",
       "2025-05-01  213.320007  214.559998  208.899994  209.080002   57365700\n",
       "2025-05-02  205.350006  206.990005  202.160004  206.089996  101010600\n",
       "2025-05-05  198.889999  204.100006  198.210007  203.100006   69018500\n",
       "2025-05-06  198.509995  200.649994  197.020004  198.210007   49928900\n",
       "\n",
       "[2515 rows x 5 columns]"
      ]
     },
     "execution_count": 53,
     "metadata": {},
     "output_type": "execute_result"
    }
   ],
   "source": [
    "now = datetime.now()\n",
    "start = datetime(now.year-10,now.month,now.day)\n",
    "end = now\n",
    "ticker = 'AAPL'\n",
    "df = yf.download(ticker,start,end)\n",
    "df"
   ]
  },
  {
   "cell_type": "code",
   "execution_count": 54,
   "id": "0c40157c-9643-4604-9ccc-98eb3306e9ec",
   "metadata": {},
   "outputs": [
    {
     "data": {
      "text/html": [
       "<div>\n",
       "<style scoped>\n",
       "    .dataframe tbody tr th:only-of-type {\n",
       "        vertical-align: middle;\n",
       "    }\n",
       "\n",
       "    .dataframe tbody tr th {\n",
       "        vertical-align: top;\n",
       "    }\n",
       "\n",
       "    .dataframe thead tr th {\n",
       "        text-align: left;\n",
       "    }\n",
       "\n",
       "    .dataframe thead tr:last-of-type th {\n",
       "        text-align: right;\n",
       "    }\n",
       "</style>\n",
       "<table border=\"1\" class=\"dataframe\">\n",
       "  <thead>\n",
       "    <tr>\n",
       "      <th>Price</th>\n",
       "      <th>Close</th>\n",
       "      <th>High</th>\n",
       "      <th>Low</th>\n",
       "      <th>Open</th>\n",
       "      <th>Volume</th>\n",
       "    </tr>\n",
       "    <tr>\n",
       "      <th>Ticker</th>\n",
       "      <th>AAPL</th>\n",
       "      <th>AAPL</th>\n",
       "      <th>AAPL</th>\n",
       "      <th>AAPL</th>\n",
       "      <th>AAPL</th>\n",
       "    </tr>\n",
       "    <tr>\n",
       "      <th>Date</th>\n",
       "      <th></th>\n",
       "      <th></th>\n",
       "      <th></th>\n",
       "      <th></th>\n",
       "      <th></th>\n",
       "    </tr>\n",
       "  </thead>\n",
       "  <tbody>\n",
       "    <tr>\n",
       "      <th>2015-05-07</th>\n",
       "      <td>28.090878</td>\n",
       "      <td>28.274771</td>\n",
       "      <td>27.812793</td>\n",
       "      <td>27.980989</td>\n",
       "      <td>175763600</td>\n",
       "    </tr>\n",
       "    <tr>\n",
       "      <th>2015-05-08</th>\n",
       "      <td>28.620132</td>\n",
       "      <td>28.620132</td>\n",
       "      <td>28.281499</td>\n",
       "      <td>28.409327</td>\n",
       "      <td>222201600</td>\n",
       "    </tr>\n",
       "    <tr>\n",
       "      <th>2015-05-11</th>\n",
       "      <td>28.328588</td>\n",
       "      <td>28.606671</td>\n",
       "      <td>28.173848</td>\n",
       "      <td>28.568547</td>\n",
       "      <td>168143200</td>\n",
       "    </tr>\n",
       "    <tr>\n",
       "      <th>2015-05-12</th>\n",
       "      <td>28.227673</td>\n",
       "      <td>28.454174</td>\n",
       "      <td>27.992198</td>\n",
       "      <td>28.167121</td>\n",
       "      <td>192640000</td>\n",
       "    </tr>\n",
       "    <tr>\n",
       "      <th>2015-05-13</th>\n",
       "      <td>28.259066</td>\n",
       "      <td>28.523693</td>\n",
       "      <td>28.227669</td>\n",
       "      <td>28.290462</td>\n",
       "      <td>138776800</td>\n",
       "    </tr>\n",
       "  </tbody>\n",
       "</table>\n",
       "</div>"
      ],
      "text/plain": [
       "Price           Close       High        Low       Open     Volume\n",
       "Ticker           AAPL       AAPL       AAPL       AAPL       AAPL\n",
       "Date                                                             \n",
       "2015-05-07  28.090878  28.274771  27.812793  27.980989  175763600\n",
       "2015-05-08  28.620132  28.620132  28.281499  28.409327  222201600\n",
       "2015-05-11  28.328588  28.606671  28.173848  28.568547  168143200\n",
       "2015-05-12  28.227673  28.454174  27.992198  28.167121  192640000\n",
       "2015-05-13  28.259066  28.523693  28.227669  28.290462  138776800"
      ]
     },
     "execution_count": 54,
     "metadata": {},
     "output_type": "execute_result"
    }
   ],
   "source": [
    "df.head()"
   ]
  },
  {
   "cell_type": "code",
   "execution_count": 55,
   "id": "0ceb7782-b940-4476-8070-52944c01c3c0",
   "metadata": {},
   "outputs": [
    {
     "data": {
      "text/html": [
       "<div>\n",
       "<style scoped>\n",
       "    .dataframe tbody tr th:only-of-type {\n",
       "        vertical-align: middle;\n",
       "    }\n",
       "\n",
       "    .dataframe tbody tr th {\n",
       "        vertical-align: top;\n",
       "    }\n",
       "\n",
       "    .dataframe thead tr th {\n",
       "        text-align: left;\n",
       "    }\n",
       "\n",
       "    .dataframe thead tr:last-of-type th {\n",
       "        text-align: right;\n",
       "    }\n",
       "</style>\n",
       "<table border=\"1\" class=\"dataframe\">\n",
       "  <thead>\n",
       "    <tr>\n",
       "      <th>Price</th>\n",
       "      <th>Close</th>\n",
       "      <th>High</th>\n",
       "      <th>Low</th>\n",
       "      <th>Open</th>\n",
       "      <th>Volume</th>\n",
       "    </tr>\n",
       "    <tr>\n",
       "      <th>Ticker</th>\n",
       "      <th>AAPL</th>\n",
       "      <th>AAPL</th>\n",
       "      <th>AAPL</th>\n",
       "      <th>AAPL</th>\n",
       "      <th>AAPL</th>\n",
       "    </tr>\n",
       "    <tr>\n",
       "      <th>Date</th>\n",
       "      <th></th>\n",
       "      <th></th>\n",
       "      <th></th>\n",
       "      <th></th>\n",
       "      <th></th>\n",
       "    </tr>\n",
       "  </thead>\n",
       "  <tbody>\n",
       "    <tr>\n",
       "      <th>2025-04-30</th>\n",
       "      <td>212.500000</td>\n",
       "      <td>213.580002</td>\n",
       "      <td>206.669998</td>\n",
       "      <td>209.300003</td>\n",
       "      <td>52286500</td>\n",
       "    </tr>\n",
       "    <tr>\n",
       "      <th>2025-05-01</th>\n",
       "      <td>213.320007</td>\n",
       "      <td>214.559998</td>\n",
       "      <td>208.899994</td>\n",
       "      <td>209.080002</td>\n",
       "      <td>57365700</td>\n",
       "    </tr>\n",
       "    <tr>\n",
       "      <th>2025-05-02</th>\n",
       "      <td>205.350006</td>\n",
       "      <td>206.990005</td>\n",
       "      <td>202.160004</td>\n",
       "      <td>206.089996</td>\n",
       "      <td>101010600</td>\n",
       "    </tr>\n",
       "    <tr>\n",
       "      <th>2025-05-05</th>\n",
       "      <td>198.889999</td>\n",
       "      <td>204.100006</td>\n",
       "      <td>198.210007</td>\n",
       "      <td>203.100006</td>\n",
       "      <td>69018500</td>\n",
       "    </tr>\n",
       "    <tr>\n",
       "      <th>2025-05-06</th>\n",
       "      <td>198.509995</td>\n",
       "      <td>200.649994</td>\n",
       "      <td>197.020004</td>\n",
       "      <td>198.210007</td>\n",
       "      <td>49928900</td>\n",
       "    </tr>\n",
       "  </tbody>\n",
       "</table>\n",
       "</div>"
      ],
      "text/plain": [
       "Price            Close        High         Low        Open     Volume\n",
       "Ticker            AAPL        AAPL        AAPL        AAPL       AAPL\n",
       "Date                                                                 \n",
       "2025-04-30  212.500000  213.580002  206.669998  209.300003   52286500\n",
       "2025-05-01  213.320007  214.559998  208.899994  209.080002   57365700\n",
       "2025-05-02  205.350006  206.990005  202.160004  206.089996  101010600\n",
       "2025-05-05  198.889999  204.100006  198.210007  203.100006   69018500\n",
       "2025-05-06  198.509995  200.649994  197.020004  198.210007   49928900"
      ]
     },
     "execution_count": 55,
     "metadata": {},
     "output_type": "execute_result"
    }
   ],
   "source": [
    "df.tail()"
   ]
  },
  {
   "cell_type": "markdown",
   "id": "b84f6aa7-3375-4135-917d-811eb1a9cbc7",
   "metadata": {},
   "source": [
    "# 2. Data Exploration & Visualization"
   ]
  },
  {
   "cell_type": "code",
   "execution_count": 56,
   "id": "9945957a-f084-4085-8c51-5d9f89e0fc68",
   "metadata": {},
   "outputs": [
    {
     "data": {
      "text/html": [
       "<div>\n",
       "<style scoped>\n",
       "    .dataframe tbody tr th:only-of-type {\n",
       "        vertical-align: middle;\n",
       "    }\n",
       "\n",
       "    .dataframe tbody tr th {\n",
       "        vertical-align: top;\n",
       "    }\n",
       "\n",
       "    .dataframe thead tr th {\n",
       "        text-align: left;\n",
       "    }\n",
       "\n",
       "    .dataframe thead tr:last-of-type th {\n",
       "        text-align: right;\n",
       "    }\n",
       "</style>\n",
       "<table border=\"1\" class=\"dataframe\">\n",
       "  <thead>\n",
       "    <tr>\n",
       "      <th>Price</th>\n",
       "      <th>Close</th>\n",
       "      <th>High</th>\n",
       "      <th>Low</th>\n",
       "      <th>Open</th>\n",
       "      <th>Volume</th>\n",
       "    </tr>\n",
       "    <tr>\n",
       "      <th>Ticker</th>\n",
       "      <th>AAPL</th>\n",
       "      <th>AAPL</th>\n",
       "      <th>AAPL</th>\n",
       "      <th>AAPL</th>\n",
       "      <th>AAPL</th>\n",
       "    </tr>\n",
       "    <tr>\n",
       "      <th>Date</th>\n",
       "      <th></th>\n",
       "      <th></th>\n",
       "      <th></th>\n",
       "      <th></th>\n",
       "      <th></th>\n",
       "    </tr>\n",
       "  </thead>\n",
       "  <tbody>\n",
       "    <tr>\n",
       "      <th>2015-05-07</th>\n",
       "      <td>28.090878</td>\n",
       "      <td>28.274771</td>\n",
       "      <td>27.812793</td>\n",
       "      <td>27.980989</td>\n",
       "      <td>175763600</td>\n",
       "    </tr>\n",
       "    <tr>\n",
       "      <th>2015-05-08</th>\n",
       "      <td>28.620132</td>\n",
       "      <td>28.620132</td>\n",
       "      <td>28.281499</td>\n",
       "      <td>28.409327</td>\n",
       "      <td>222201600</td>\n",
       "    </tr>\n",
       "    <tr>\n",
       "      <th>2015-05-11</th>\n",
       "      <td>28.328588</td>\n",
       "      <td>28.606671</td>\n",
       "      <td>28.173848</td>\n",
       "      <td>28.568547</td>\n",
       "      <td>168143200</td>\n",
       "    </tr>\n",
       "    <tr>\n",
       "      <th>2015-05-12</th>\n",
       "      <td>28.227673</td>\n",
       "      <td>28.454174</td>\n",
       "      <td>27.992198</td>\n",
       "      <td>28.167121</td>\n",
       "      <td>192640000</td>\n",
       "    </tr>\n",
       "    <tr>\n",
       "      <th>2015-05-13</th>\n",
       "      <td>28.259066</td>\n",
       "      <td>28.523693</td>\n",
       "      <td>28.227669</td>\n",
       "      <td>28.290462</td>\n",
       "      <td>138776800</td>\n",
       "    </tr>\n",
       "    <tr>\n",
       "      <th>...</th>\n",
       "      <td>...</td>\n",
       "      <td>...</td>\n",
       "      <td>...</td>\n",
       "      <td>...</td>\n",
       "      <td>...</td>\n",
       "    </tr>\n",
       "    <tr>\n",
       "      <th>2025-04-30</th>\n",
       "      <td>212.500000</td>\n",
       "      <td>213.580002</td>\n",
       "      <td>206.669998</td>\n",
       "      <td>209.300003</td>\n",
       "      <td>52286500</td>\n",
       "    </tr>\n",
       "    <tr>\n",
       "      <th>2025-05-01</th>\n",
       "      <td>213.320007</td>\n",
       "      <td>214.559998</td>\n",
       "      <td>208.899994</td>\n",
       "      <td>209.080002</td>\n",
       "      <td>57365700</td>\n",
       "    </tr>\n",
       "    <tr>\n",
       "      <th>2025-05-02</th>\n",
       "      <td>205.350006</td>\n",
       "      <td>206.990005</td>\n",
       "      <td>202.160004</td>\n",
       "      <td>206.089996</td>\n",
       "      <td>101010600</td>\n",
       "    </tr>\n",
       "    <tr>\n",
       "      <th>2025-05-05</th>\n",
       "      <td>198.889999</td>\n",
       "      <td>204.100006</td>\n",
       "      <td>198.210007</td>\n",
       "      <td>203.100006</td>\n",
       "      <td>69018500</td>\n",
       "    </tr>\n",
       "    <tr>\n",
       "      <th>2025-05-06</th>\n",
       "      <td>198.509995</td>\n",
       "      <td>200.649994</td>\n",
       "      <td>197.020004</td>\n",
       "      <td>198.210007</td>\n",
       "      <td>49928900</td>\n",
       "    </tr>\n",
       "  </tbody>\n",
       "</table>\n",
       "<p>2515 rows × 5 columns</p>\n",
       "</div>"
      ],
      "text/plain": [
       "Price            Close        High         Low        Open     Volume\n",
       "Ticker            AAPL        AAPL        AAPL        AAPL       AAPL\n",
       "Date                                                                 \n",
       "2015-05-07   28.090878   28.274771   27.812793   27.980989  175763600\n",
       "2015-05-08   28.620132   28.620132   28.281499   28.409327  222201600\n",
       "2015-05-11   28.328588   28.606671   28.173848   28.568547  168143200\n",
       "2015-05-12   28.227673   28.454174   27.992198   28.167121  192640000\n",
       "2015-05-13   28.259066   28.523693   28.227669   28.290462  138776800\n",
       "...                ...         ...         ...         ...        ...\n",
       "2025-04-30  212.500000  213.580002  206.669998  209.300003   52286500\n",
       "2025-05-01  213.320007  214.559998  208.899994  209.080002   57365700\n",
       "2025-05-02  205.350006  206.990005  202.160004  206.089996  101010600\n",
       "2025-05-05  198.889999  204.100006  198.210007  203.100006   69018500\n",
       "2025-05-06  198.509995  200.649994  197.020004  198.210007   49928900\n",
       "\n",
       "[2515 rows x 5 columns]"
      ]
     },
     "execution_count": 56,
     "metadata": {},
     "output_type": "execute_result"
    }
   ],
   "source": [
    "df"
   ]
  },
  {
   "cell_type": "code",
   "execution_count": 57,
   "id": "c40e68aa-4d30-4f8c-80d7-17bbb35ca999",
   "metadata": {},
   "outputs": [
    {
     "data": {
      "text/plain": [
       "pandas.core.frame.DataFrame"
      ]
     },
     "execution_count": 57,
     "metadata": {},
     "output_type": "execute_result"
    }
   ],
   "source": [
    "type(df)"
   ]
  },
  {
   "cell_type": "code",
   "execution_count": 58,
   "id": "a7faa36d-a56c-45f2-ae72-575a9eb1baca",
   "metadata": {},
   "outputs": [
    {
     "data": {
      "text/plain": [
       "(2515, 5)"
      ]
     },
     "execution_count": 58,
     "metadata": {},
     "output_type": "execute_result"
    }
   ],
   "source": [
    "df.shape"
   ]
  },
  {
   "cell_type": "code",
   "execution_count": 59,
   "id": "70d882a1-e1e7-47e7-8ed6-b1797d332b39",
   "metadata": {},
   "outputs": [
    {
     "data": {
      "text/plain": [
       "Price   Ticker\n",
       "Close   AAPL      0\n",
       "High    AAPL      0\n",
       "Low     AAPL      0\n",
       "Open    AAPL      0\n",
       "Volume  AAPL      0\n",
       "dtype: int64"
      ]
     },
     "execution_count": 59,
     "metadata": {},
     "output_type": "execute_result"
    }
   ],
   "source": [
    "df.isna().sum()"
   ]
  },
  {
   "cell_type": "code",
   "execution_count": 60,
   "id": "3a654b80-21fb-4cd6-bd34-fa4fc938f23c",
   "metadata": {},
   "outputs": [
    {
     "data": {
      "text/html": [
       "<div>\n",
       "<style scoped>\n",
       "    .dataframe tbody tr th:only-of-type {\n",
       "        vertical-align: middle;\n",
       "    }\n",
       "\n",
       "    .dataframe tbody tr th {\n",
       "        vertical-align: top;\n",
       "    }\n",
       "\n",
       "    .dataframe thead tr th {\n",
       "        text-align: left;\n",
       "    }\n",
       "</style>\n",
       "<table border=\"1\" class=\"dataframe\">\n",
       "  <thead>\n",
       "    <tr>\n",
       "      <th>Price</th>\n",
       "      <th>Close</th>\n",
       "      <th>High</th>\n",
       "      <th>Low</th>\n",
       "      <th>Open</th>\n",
       "      <th>Volume</th>\n",
       "    </tr>\n",
       "    <tr>\n",
       "      <th>Ticker</th>\n",
       "      <th>AAPL</th>\n",
       "      <th>AAPL</th>\n",
       "      <th>AAPL</th>\n",
       "      <th>AAPL</th>\n",
       "      <th>AAPL</th>\n",
       "    </tr>\n",
       "  </thead>\n",
       "  <tbody>\n",
       "    <tr>\n",
       "      <th>count</th>\n",
       "      <td>2515.000000</td>\n",
       "      <td>2515.000000</td>\n",
       "      <td>2515.000000</td>\n",
       "      <td>2515.000000</td>\n",
       "      <td>2.515000e+03</td>\n",
       "    </tr>\n",
       "    <tr>\n",
       "      <th>mean</th>\n",
       "      <td>100.810235</td>\n",
       "      <td>101.820296</td>\n",
       "      <td>99.686153</td>\n",
       "      <td>100.707849</td>\n",
       "      <td>1.114997e+08</td>\n",
       "    </tr>\n",
       "    <tr>\n",
       "      <th>std</th>\n",
       "      <td>68.453936</td>\n",
       "      <td>69.126367</td>\n",
       "      <td>67.683533</td>\n",
       "      <td>68.367790</td>\n",
       "      <td>6.460299e+07</td>\n",
       "    </tr>\n",
       "    <tr>\n",
       "      <th>min</th>\n",
       "      <td>20.674536</td>\n",
       "      <td>20.978904</td>\n",
       "      <td>20.475435</td>\n",
       "      <td>20.596721</td>\n",
       "      <td>2.323470e+07</td>\n",
       "    </tr>\n",
       "    <tr>\n",
       "      <th>25%</th>\n",
       "      <td>37.407570</td>\n",
       "      <td>37.662749</td>\n",
       "      <td>36.998186</td>\n",
       "      <td>37.384769</td>\n",
       "      <td>6.837940e+07</td>\n",
       "    </tr>\n",
       "    <tr>\n",
       "      <th>50%</th>\n",
       "      <td>77.366234</td>\n",
       "      <td>78.033455</td>\n",
       "      <td>76.804119</td>\n",
       "      <td>77.320001</td>\n",
       "      <td>9.599760e+07</td>\n",
       "    </tr>\n",
       "    <tr>\n",
       "      <th>75%</th>\n",
       "      <td>160.317307</td>\n",
       "      <td>162.113185</td>\n",
       "      <td>157.740299</td>\n",
       "      <td>159.862833</td>\n",
       "      <td>1.356038e+08</td>\n",
       "    </tr>\n",
       "    <tr>\n",
       "      <th>max</th>\n",
       "      <td>258.735504</td>\n",
       "      <td>259.814335</td>\n",
       "      <td>257.347047</td>\n",
       "      <td>257.906429</td>\n",
       "      <td>6.488252e+08</td>\n",
       "    </tr>\n",
       "  </tbody>\n",
       "</table>\n",
       "</div>"
      ],
      "text/plain": [
       "Price         Close         High          Low         Open        Volume\n",
       "Ticker         AAPL         AAPL         AAPL         AAPL          AAPL\n",
       "count   2515.000000  2515.000000  2515.000000  2515.000000  2.515000e+03\n",
       "mean     100.810235   101.820296    99.686153   100.707849  1.114997e+08\n",
       "std       68.453936    69.126367    67.683533    68.367790  6.460299e+07\n",
       "min       20.674536    20.978904    20.475435    20.596721  2.323470e+07\n",
       "25%       37.407570    37.662749    36.998186    37.384769  6.837940e+07\n",
       "50%       77.366234    78.033455    76.804119    77.320001  9.599760e+07\n",
       "75%      160.317307   162.113185   157.740299   159.862833  1.356038e+08\n",
       "max      258.735504   259.814335   257.347047   257.906429  6.488252e+08"
      ]
     },
     "execution_count": 60,
     "metadata": {},
     "output_type": "execute_result"
    }
   ],
   "source": [
    "df.describe()"
   ]
  },
  {
   "cell_type": "code",
   "execution_count": 61,
   "id": "e17cd6c4-e73d-48a4-b087-3b6a91390de5",
   "metadata": {},
   "outputs": [
    {
     "data": {
      "text/plain": [
       "Price   Ticker\n",
       "Close   AAPL      float64\n",
       "High    AAPL      float64\n",
       "Low     AAPL      float64\n",
       "Open    AAPL      float64\n",
       "Volume  AAPL        int64\n",
       "dtype: object"
      ]
     },
     "execution_count": 61,
     "metadata": {},
     "output_type": "execute_result"
    }
   ],
   "source": [
    "df.dtypes"
   ]
  },
  {
   "cell_type": "code",
   "execution_count": 62,
   "id": "0b7830e6-a2b7-476a-ad2e-4f2abfbd68a9",
   "metadata": {},
   "outputs": [
    {
     "data": {
      "text/html": [
       "<div>\n",
       "<style scoped>\n",
       "    .dataframe tbody tr th:only-of-type {\n",
       "        vertical-align: middle;\n",
       "    }\n",
       "\n",
       "    .dataframe tbody tr th {\n",
       "        vertical-align: top;\n",
       "    }\n",
       "\n",
       "    .dataframe thead tr th {\n",
       "        text-align: left;\n",
       "    }\n",
       "\n",
       "    .dataframe thead tr:last-of-type th {\n",
       "        text-align: right;\n",
       "    }\n",
       "</style>\n",
       "<table border=\"1\" class=\"dataframe\">\n",
       "  <thead>\n",
       "    <tr>\n",
       "      <th>Price</th>\n",
       "      <th>Close</th>\n",
       "      <th>High</th>\n",
       "      <th>Low</th>\n",
       "      <th>Open</th>\n",
       "      <th>Volume</th>\n",
       "    </tr>\n",
       "    <tr>\n",
       "      <th>Ticker</th>\n",
       "      <th>AAPL</th>\n",
       "      <th>AAPL</th>\n",
       "      <th>AAPL</th>\n",
       "      <th>AAPL</th>\n",
       "      <th>AAPL</th>\n",
       "    </tr>\n",
       "    <tr>\n",
       "      <th>Date</th>\n",
       "      <th></th>\n",
       "      <th></th>\n",
       "      <th></th>\n",
       "      <th></th>\n",
       "      <th></th>\n",
       "    </tr>\n",
       "  </thead>\n",
       "  <tbody>\n",
       "    <tr>\n",
       "      <th>2015-05-07</th>\n",
       "      <td>28.090878</td>\n",
       "      <td>28.274771</td>\n",
       "      <td>27.812793</td>\n",
       "      <td>27.980989</td>\n",
       "      <td>175763600</td>\n",
       "    </tr>\n",
       "    <tr>\n",
       "      <th>2015-05-08</th>\n",
       "      <td>28.620132</td>\n",
       "      <td>28.620132</td>\n",
       "      <td>28.281499</td>\n",
       "      <td>28.409327</td>\n",
       "      <td>222201600</td>\n",
       "    </tr>\n",
       "    <tr>\n",
       "      <th>2015-05-11</th>\n",
       "      <td>28.328588</td>\n",
       "      <td>28.606671</td>\n",
       "      <td>28.173848</td>\n",
       "      <td>28.568547</td>\n",
       "      <td>168143200</td>\n",
       "    </tr>\n",
       "    <tr>\n",
       "      <th>2015-05-12</th>\n",
       "      <td>28.227673</td>\n",
       "      <td>28.454174</td>\n",
       "      <td>27.992198</td>\n",
       "      <td>28.167121</td>\n",
       "      <td>192640000</td>\n",
       "    </tr>\n",
       "    <tr>\n",
       "      <th>2015-05-13</th>\n",
       "      <td>28.259066</td>\n",
       "      <td>28.523693</td>\n",
       "      <td>28.227669</td>\n",
       "      <td>28.290462</td>\n",
       "      <td>138776800</td>\n",
       "    </tr>\n",
       "  </tbody>\n",
       "</table>\n",
       "</div>"
      ],
      "text/plain": [
       "Price           Close       High        Low       Open     Volume\n",
       "Ticker           AAPL       AAPL       AAPL       AAPL       AAPL\n",
       "Date                                                             \n",
       "2015-05-07  28.090878  28.274771  27.812793  27.980989  175763600\n",
       "2015-05-08  28.620132  28.620132  28.281499  28.409327  222201600\n",
       "2015-05-11  28.328588  28.606671  28.173848  28.568547  168143200\n",
       "2015-05-12  28.227673  28.454174  27.992198  28.167121  192640000\n",
       "2015-05-13  28.259066  28.523693  28.227669  28.290462  138776800"
      ]
     },
     "execution_count": 62,
     "metadata": {},
     "output_type": "execute_result"
    }
   ],
   "source": [
    "df.head()"
   ]
  },
  {
   "cell_type": "code",
   "execution_count": 63,
   "id": "18a40141-ecc7-4b1a-b48a-459869c82a97",
   "metadata": {},
   "outputs": [],
   "source": [
    "df = df.reset_index()"
   ]
  },
  {
   "cell_type": "code",
   "execution_count": 64,
   "id": "13e4c348-875c-450f-b1b8-1434edd9429d",
   "metadata": {},
   "outputs": [
    {
     "data": {
      "text/html": [
       "<div>\n",
       "<style scoped>\n",
       "    .dataframe tbody tr th:only-of-type {\n",
       "        vertical-align: middle;\n",
       "    }\n",
       "\n",
       "    .dataframe tbody tr th {\n",
       "        vertical-align: top;\n",
       "    }\n",
       "\n",
       "    .dataframe thead tr th {\n",
       "        text-align: left;\n",
       "    }\n",
       "</style>\n",
       "<table border=\"1\" class=\"dataframe\">\n",
       "  <thead>\n",
       "    <tr>\n",
       "      <th>Price</th>\n",
       "      <th>Date</th>\n",
       "      <th>Close</th>\n",
       "      <th>High</th>\n",
       "      <th>Low</th>\n",
       "      <th>Open</th>\n",
       "      <th>Volume</th>\n",
       "    </tr>\n",
       "    <tr>\n",
       "      <th>Ticker</th>\n",
       "      <th></th>\n",
       "      <th>AAPL</th>\n",
       "      <th>AAPL</th>\n",
       "      <th>AAPL</th>\n",
       "      <th>AAPL</th>\n",
       "      <th>AAPL</th>\n",
       "    </tr>\n",
       "  </thead>\n",
       "  <tbody>\n",
       "    <tr>\n",
       "      <th>0</th>\n",
       "      <td>2015-05-07</td>\n",
       "      <td>28.090878</td>\n",
       "      <td>28.274771</td>\n",
       "      <td>27.812793</td>\n",
       "      <td>27.980989</td>\n",
       "      <td>175763600</td>\n",
       "    </tr>\n",
       "    <tr>\n",
       "      <th>1</th>\n",
       "      <td>2015-05-08</td>\n",
       "      <td>28.620132</td>\n",
       "      <td>28.620132</td>\n",
       "      <td>28.281499</td>\n",
       "      <td>28.409327</td>\n",
       "      <td>222201600</td>\n",
       "    </tr>\n",
       "    <tr>\n",
       "      <th>2</th>\n",
       "      <td>2015-05-11</td>\n",
       "      <td>28.328588</td>\n",
       "      <td>28.606671</td>\n",
       "      <td>28.173848</td>\n",
       "      <td>28.568547</td>\n",
       "      <td>168143200</td>\n",
       "    </tr>\n",
       "    <tr>\n",
       "      <th>3</th>\n",
       "      <td>2015-05-12</td>\n",
       "      <td>28.227673</td>\n",
       "      <td>28.454174</td>\n",
       "      <td>27.992198</td>\n",
       "      <td>28.167121</td>\n",
       "      <td>192640000</td>\n",
       "    </tr>\n",
       "    <tr>\n",
       "      <th>4</th>\n",
       "      <td>2015-05-13</td>\n",
       "      <td>28.259066</td>\n",
       "      <td>28.523693</td>\n",
       "      <td>28.227669</td>\n",
       "      <td>28.290462</td>\n",
       "      <td>138776800</td>\n",
       "    </tr>\n",
       "  </tbody>\n",
       "</table>\n",
       "</div>"
      ],
      "text/plain": [
       "Price        Date      Close       High        Low       Open     Volume\n",
       "Ticker                  AAPL       AAPL       AAPL       AAPL       AAPL\n",
       "0      2015-05-07  28.090878  28.274771  27.812793  27.980989  175763600\n",
       "1      2015-05-08  28.620132  28.620132  28.281499  28.409327  222201600\n",
       "2      2015-05-11  28.328588  28.606671  28.173848  28.568547  168143200\n",
       "3      2015-05-12  28.227673  28.454174  27.992198  28.167121  192640000\n",
       "4      2015-05-13  28.259066  28.523693  28.227669  28.290462  138776800"
      ]
     },
     "execution_count": 64,
     "metadata": {},
     "output_type": "execute_result"
    }
   ],
   "source": [
    "df.head()"
   ]
  },
  {
   "cell_type": "code",
   "execution_count": 65,
   "id": "febf41b6-e613-4c38-b1c1-f75579cbcf94",
   "metadata": {},
   "outputs": [
    {
     "data": {
      "text/plain": [
       "Text(0, 0.5, 'Close Price')"
      ]
     },
     "execution_count": 65,
     "metadata": {},
     "output_type": "execute_result"
    },
    {
     "data": {
      "image/png": "[encoded data removed]",
      "text/plain": [
       "<Figure size 1200x500 with 1 Axes>"
      ]
     },
     "metadata": {},
     "output_type": "display_data"
    }
   ],
   "source": [
    "plt.figure(figsize=(12,5))\n",
    "plt.plot(df.Close)\n",
    "plt.title(ticker)\n",
    "plt.xlabel(\"Dayas\")\n",
    "plt.ylabel(\"Close Price\")"
   ]
  },
  {
   "cell_type": "markdown",
   "id": "4e41b8b4-fa92-47ee-a284-86fb22488a94",
   "metadata": {},
   "source": [
    "# 3. Feature Engineering"
   ]
  },
  {
   "cell_type": "code",
   "execution_count": 66,
   "id": "d2ecd3f7-0f0a-4f3f-886a-6a3889809719",
   "metadata": {},
   "outputs": [],
   "source": [
    "# 10, 20, 30, 40, 50, 60, 70, 80, 90, 100\n",
    "\n",
    "# MA of 5 days ==> null null null null 30 40"
   ]
  },
  {
   "cell_type": "code",
   "execution_count": 67,
   "id": "f6725c16-60f4-4783-ae6e-ba53e5c72953",
   "metadata": {},
   "outputs": [
    {
     "name": "stdout",
     "output_type": "stream",
     "text": [
      "50.0\n"
     ]
    }
   ],
   "source": [
    "temp_df = [10, 20, 30, 40, 50, 60, 70, 80, 90, 100]\n",
    "print(sum(temp_df[2:7])/5)"
   ]
  },
  {
   "cell_type": "code",
   "execution_count": 68,
   "id": "0f6b3f2a-80c6-4ed1-8d88-63ea3fc0ccc1",
   "metadata": {},
   "outputs": [
    {
     "data": {
      "text/html": [
       "<div>\n",
       "<style scoped>\n",
       "    .dataframe tbody tr th:only-of-type {\n",
       "        vertical-align: middle;\n",
       "    }\n",
       "\n",
       "    .dataframe tbody tr th {\n",
       "        vertical-align: top;\n",
       "    }\n",
       "\n",
       "    .dataframe thead th {\n",
       "        text-align: right;\n",
       "    }\n",
       "</style>\n",
       "<table border=\"1\" class=\"dataframe\">\n",
       "  <thead>\n",
       "    <tr style=\"text-align: right;\">\n",
       "      <th></th>\n",
       "      <th>0</th>\n",
       "    </tr>\n",
       "  </thead>\n",
       "  <tbody>\n",
       "    <tr>\n",
       "      <th>0</th>\n",
       "      <td>10</td>\n",
       "    </tr>\n",
       "    <tr>\n",
       "      <th>1</th>\n",
       "      <td>20</td>\n",
       "    </tr>\n",
       "    <tr>\n",
       "      <th>2</th>\n",
       "      <td>30</td>\n",
       "    </tr>\n",
       "    <tr>\n",
       "      <th>3</th>\n",
       "      <td>40</td>\n",
       "    </tr>\n",
       "    <tr>\n",
       "      <th>4</th>\n",
       "      <td>50</td>\n",
       "    </tr>\n",
       "    <tr>\n",
       "      <th>5</th>\n",
       "      <td>60</td>\n",
       "    </tr>\n",
       "    <tr>\n",
       "      <th>6</th>\n",
       "      <td>70</td>\n",
       "    </tr>\n",
       "    <tr>\n",
       "      <th>7</th>\n",
       "      <td>80</td>\n",
       "    </tr>\n",
       "    <tr>\n",
       "      <th>8</th>\n",
       "      <td>90</td>\n",
       "    </tr>\n",
       "    <tr>\n",
       "      <th>9</th>\n",
       "      <td>100</td>\n",
       "    </tr>\n",
       "  </tbody>\n",
       "</table>\n",
       "</div>"
      ],
      "text/plain": [
       "     0\n",
       "0   10\n",
       "1   20\n",
       "2   30\n",
       "3   40\n",
       "4   50\n",
       "5   60\n",
       "6   70\n",
       "7   80\n",
       "8   90\n",
       "9  100"
      ]
     },
     "execution_count": 68,
     "metadata": {},
     "output_type": "execute_result"
    }
   ],
   "source": [
    "df1 = pd.DataFrame([10, 20, 30, 40, 50, 60, 70, 80, 90, 100])\n",
    "df1"
   ]
  },
  {
   "cell_type": "code",
   "execution_count": 69,
   "id": "c445db39-f2d4-4a0b-918b-6a7646510ac7",
   "metadata": {},
   "outputs": [
    {
     "data": {
      "text/html": [
       "<div>\n",
       "<style scoped>\n",
       "    .dataframe tbody tr th:only-of-type {\n",
       "        vertical-align: middle;\n",
       "    }\n",
       "\n",
       "    .dataframe tbody tr th {\n",
       "        vertical-align: top;\n",
       "    }\n",
       "\n",
       "    .dataframe thead th {\n",
       "        text-align: right;\n",
       "    }\n",
       "</style>\n",
       "<table border=\"1\" class=\"dataframe\">\n",
       "  <thead>\n",
       "    <tr style=\"text-align: right;\">\n",
       "      <th></th>\n",
       "      <th>0</th>\n",
       "      <th>MA_5</th>\n",
       "    </tr>\n",
       "  </thead>\n",
       "  <tbody>\n",
       "    <tr>\n",
       "      <th>0</th>\n",
       "      <td>10</td>\n",
       "      <td>NaN</td>\n",
       "    </tr>\n",
       "    <tr>\n",
       "      <th>1</th>\n",
       "      <td>20</td>\n",
       "      <td>NaN</td>\n",
       "    </tr>\n",
       "    <tr>\n",
       "      <th>2</th>\n",
       "      <td>30</td>\n",
       "      <td>NaN</td>\n",
       "    </tr>\n",
       "    <tr>\n",
       "      <th>3</th>\n",
       "      <td>40</td>\n",
       "      <td>NaN</td>\n",
       "    </tr>\n",
       "    <tr>\n",
       "      <th>4</th>\n",
       "      <td>50</td>\n",
       "      <td>30.0</td>\n",
       "    </tr>\n",
       "    <tr>\n",
       "      <th>5</th>\n",
       "      <td>60</td>\n",
       "      <td>40.0</td>\n",
       "    </tr>\n",
       "    <tr>\n",
       "      <th>6</th>\n",
       "      <td>70</td>\n",
       "      <td>50.0</td>\n",
       "    </tr>\n",
       "    <tr>\n",
       "      <th>7</th>\n",
       "      <td>80</td>\n",
       "      <td>60.0</td>\n",
       "    </tr>\n",
       "    <tr>\n",
       "      <th>8</th>\n",
       "      <td>90</td>\n",
       "      <td>70.0</td>\n",
       "    </tr>\n",
       "    <tr>\n",
       "      <th>9</th>\n",
       "      <td>100</td>\n",
       "      <td>80.0</td>\n",
       "    </tr>\n",
       "  </tbody>\n",
       "</table>\n",
       "</div>"
      ],
      "text/plain": [
       "     0  MA_5\n",
       "0   10   NaN\n",
       "1   20   NaN\n",
       "2   30   NaN\n",
       "3   40   NaN\n",
       "4   50  30.0\n",
       "5   60  40.0\n",
       "6   70  50.0\n",
       "7   80  60.0\n",
       "8   90  70.0\n",
       "9  100  80.0"
      ]
     },
     "execution_count": 69,
     "metadata": {},
     "output_type": "execute_result"
    }
   ],
   "source": [
    "df1['MA_5'] = df1.rolling(5).mean()\n",
    "df1"
   ]
  },
  {
   "cell_type": "markdown",
   "id": "59ed79c3-369f-4b28-b532-f59f933f0829",
   "metadata": {},
   "source": [
    "### 100 Days Moving Average "
   ]
  },
  {
   "cell_type": "code",
   "execution_count": 70,
   "id": "c9ede639-2ddb-4601-96c6-7493e830581b",
   "metadata": {},
   "outputs": [
    {
     "data": {
      "text/html": [
       "<div>\n",
       "<style scoped>\n",
       "    .dataframe tbody tr th:only-of-type {\n",
       "        vertical-align: middle;\n",
       "    }\n",
       "\n",
       "    .dataframe tbody tr th {\n",
       "        vertical-align: top;\n",
       "    }\n",
       "\n",
       "    .dataframe thead tr th {\n",
       "        text-align: left;\n",
       "    }\n",
       "</style>\n",
       "<table border=\"1\" class=\"dataframe\">\n",
       "  <thead>\n",
       "    <tr>\n",
       "      <th>Price</th>\n",
       "      <th>Date</th>\n",
       "      <th>Close</th>\n",
       "      <th>High</th>\n",
       "      <th>Low</th>\n",
       "      <th>Open</th>\n",
       "      <th>Volume</th>\n",
       "      <th>MA_100</th>\n",
       "    </tr>\n",
       "    <tr>\n",
       "      <th>Ticker</th>\n",
       "      <th></th>\n",
       "      <th>AAPL</th>\n",
       "      <th>AAPL</th>\n",
       "      <th>AAPL</th>\n",
       "      <th>AAPL</th>\n",
       "      <th>AAPL</th>\n",
       "      <th></th>\n",
       "    </tr>\n",
       "  </thead>\n",
       "  <tbody>\n",
       "    <tr>\n",
       "      <th>0</th>\n",
       "      <td>2015-05-07</td>\n",
       "      <td>28.090878</td>\n",
       "      <td>28.274771</td>\n",
       "      <td>27.812793</td>\n",
       "      <td>27.980989</td>\n",
       "      <td>175763600</td>\n",
       "      <td>NaN</td>\n",
       "    </tr>\n",
       "    <tr>\n",
       "      <th>1</th>\n",
       "      <td>2015-05-08</td>\n",
       "      <td>28.620132</td>\n",
       "      <td>28.620132</td>\n",
       "      <td>28.281499</td>\n",
       "      <td>28.409327</td>\n",
       "      <td>222201600</td>\n",
       "      <td>NaN</td>\n",
       "    </tr>\n",
       "    <tr>\n",
       "      <th>2</th>\n",
       "      <td>2015-05-11</td>\n",
       "      <td>28.328588</td>\n",
       "      <td>28.606671</td>\n",
       "      <td>28.173848</td>\n",
       "      <td>28.568547</td>\n",
       "      <td>168143200</td>\n",
       "      <td>NaN</td>\n",
       "    </tr>\n",
       "    <tr>\n",
       "      <th>3</th>\n",
       "      <td>2015-05-12</td>\n",
       "      <td>28.227673</td>\n",
       "      <td>28.454174</td>\n",
       "      <td>27.992198</td>\n",
       "      <td>28.167121</td>\n",
       "      <td>192640000</td>\n",
       "      <td>NaN</td>\n",
       "    </tr>\n",
       "    <tr>\n",
       "      <th>4</th>\n",
       "      <td>2015-05-13</td>\n",
       "      <td>28.259066</td>\n",
       "      <td>28.523693</td>\n",
       "      <td>28.227669</td>\n",
       "      <td>28.290462</td>\n",
       "      <td>138776800</td>\n",
       "      <td>NaN</td>\n",
       "    </tr>\n",
       "  </tbody>\n",
       "</table>\n",
       "</div>"
      ],
      "text/plain": [
       "Price        Date      Close       High        Low       Open     Volume  \\\n",
       "Ticker                  AAPL       AAPL       AAPL       AAPL       AAPL   \n",
       "0      2015-05-07  28.090878  28.274771  27.812793  27.980989  175763600   \n",
       "1      2015-05-08  28.620132  28.620132  28.281499  28.409327  222201600   \n",
       "2      2015-05-11  28.328588  28.606671  28.173848  28.568547  168143200   \n",
       "3      2015-05-12  28.227673  28.454174  27.992198  28.167121  192640000   \n",
       "4      2015-05-13  28.259066  28.523693  28.227669  28.290462  138776800   \n",
       "\n",
       "Price  MA_100  \n",
       "Ticker         \n",
       "0         NaN  \n",
       "1         NaN  \n",
       "2         NaN  \n",
       "3         NaN  \n",
       "4         NaN  "
      ]
     },
     "execution_count": 70,
     "metadata": {},
     "output_type": "execute_result"
    }
   ],
   "source": [
    "df['MA_100'] = df.Close.rolling(100).mean()\n",
    "df.head()"
   ]
  },
  {
   "cell_type": "code",
   "execution_count": 71,
   "id": "4bba4030-b63a-4a03-9e1e-6ad7262a0158",
   "metadata": {},
   "outputs": [
    {
     "data": {
      "text/html": [
       "<div>\n",
       "<style scoped>\n",
       "    .dataframe tbody tr th:only-of-type {\n",
       "        vertical-align: middle;\n",
       "    }\n",
       "\n",
       "    .dataframe tbody tr th {\n",
       "        vertical-align: top;\n",
       "    }\n",
       "\n",
       "    .dataframe thead tr th {\n",
       "        text-align: left;\n",
       "    }\n",
       "</style>\n",
       "<table border=\"1\" class=\"dataframe\">\n",
       "  <thead>\n",
       "    <tr>\n",
       "      <th>Price</th>\n",
       "      <th>Date</th>\n",
       "      <th>Close</th>\n",
       "      <th>High</th>\n",
       "      <th>Low</th>\n",
       "      <th>Open</th>\n",
       "      <th>Volume</th>\n",
       "      <th>MA_100</th>\n",
       "    </tr>\n",
       "    <tr>\n",
       "      <th>Ticker</th>\n",
       "      <th></th>\n",
       "      <th>AAPL</th>\n",
       "      <th>AAPL</th>\n",
       "      <th>AAPL</th>\n",
       "      <th>AAPL</th>\n",
       "      <th>AAPL</th>\n",
       "      <th></th>\n",
       "    </tr>\n",
       "  </thead>\n",
       "  <tbody>\n",
       "    <tr>\n",
       "      <th>0</th>\n",
       "      <td>2015-05-07</td>\n",
       "      <td>28.090878</td>\n",
       "      <td>28.274771</td>\n",
       "      <td>27.812793</td>\n",
       "      <td>27.980989</td>\n",
       "      <td>175763600</td>\n",
       "      <td>NaN</td>\n",
       "    </tr>\n",
       "    <tr>\n",
       "      <th>1</th>\n",
       "      <td>2015-05-08</td>\n",
       "      <td>28.620132</td>\n",
       "      <td>28.620132</td>\n",
       "      <td>28.281499</td>\n",
       "      <td>28.409327</td>\n",
       "      <td>222201600</td>\n",
       "      <td>NaN</td>\n",
       "    </tr>\n",
       "    <tr>\n",
       "      <th>2</th>\n",
       "      <td>2015-05-11</td>\n",
       "      <td>28.328588</td>\n",
       "      <td>28.606671</td>\n",
       "      <td>28.173848</td>\n",
       "      <td>28.568547</td>\n",
       "      <td>168143200</td>\n",
       "      <td>NaN</td>\n",
       "    </tr>\n",
       "    <tr>\n",
       "      <th>3</th>\n",
       "      <td>2015-05-12</td>\n",
       "      <td>28.227673</td>\n",
       "      <td>28.454174</td>\n",
       "      <td>27.992198</td>\n",
       "      <td>28.167121</td>\n",
       "      <td>192640000</td>\n",
       "      <td>NaN</td>\n",
       "    </tr>\n",
       "    <tr>\n",
       "      <th>4</th>\n",
       "      <td>2015-05-13</td>\n",
       "      <td>28.259066</td>\n",
       "      <td>28.523693</td>\n",
       "      <td>28.227669</td>\n",
       "      <td>28.290462</td>\n",
       "      <td>138776800</td>\n",
       "      <td>NaN</td>\n",
       "    </tr>\n",
       "    <tr>\n",
       "      <th>...</th>\n",
       "      <td>...</td>\n",
       "      <td>...</td>\n",
       "      <td>...</td>\n",
       "      <td>...</td>\n",
       "      <td>...</td>\n",
       "      <td>...</td>\n",
       "      <td>...</td>\n",
       "    </tr>\n",
       "    <tr>\n",
       "      <th>98</th>\n",
       "      <td>2015-09-25</td>\n",
       "      <td>25.841375</td>\n",
       "      <td>26.287422</td>\n",
       "      <td>25.685935</td>\n",
       "      <td>26.231103</td>\n",
       "      <td>224607600</td>\n",
       "      <td>NaN</td>\n",
       "    </tr>\n",
       "    <tr>\n",
       "      <th>99</th>\n",
       "      <td>2015-09-28</td>\n",
       "      <td>25.330000</td>\n",
       "      <td>25.809837</td>\n",
       "      <td>25.330000</td>\n",
       "      <td>25.647638</td>\n",
       "      <td>208436000</td>\n",
       "      <td>27.327291</td>\n",
       "    </tr>\n",
       "    <tr>\n",
       "      <th>100</th>\n",
       "      <td>2015-09-29</td>\n",
       "      <td>24.568560</td>\n",
       "      <td>25.571037</td>\n",
       "      <td>24.298230</td>\n",
       "      <td>25.417850</td>\n",
       "      <td>293461600</td>\n",
       "      <td>27.292067</td>\n",
       "    </tr>\n",
       "    <tr>\n",
       "      <th>101</th>\n",
       "      <td>2015-09-30</td>\n",
       "      <td>24.847910</td>\n",
       "      <td>25.127251</td>\n",
       "      <td>24.494227</td>\n",
       "      <td>24.818623</td>\n",
       "      <td>265892000</td>\n",
       "      <td>27.254345</td>\n",
       "    </tr>\n",
       "    <tr>\n",
       "      <th>102</th>\n",
       "      <td>2015-10-01</td>\n",
       "      <td>24.685699</td>\n",
       "      <td>24.694711</td>\n",
       "      <td>24.174323</td>\n",
       "      <td>24.570808</td>\n",
       "      <td>255716400</td>\n",
       "      <td>27.217916</td>\n",
       "    </tr>\n",
       "  </tbody>\n",
       "</table>\n",
       "<p>103 rows × 7 columns</p>\n",
       "</div>"
      ],
      "text/plain": [
       "Price        Date      Close       High        Low       Open     Volume  \\\n",
       "Ticker                  AAPL       AAPL       AAPL       AAPL       AAPL   \n",
       "0      2015-05-07  28.090878  28.274771  27.812793  27.980989  175763600   \n",
       "1      2015-05-08  28.620132  28.620132  28.281499  28.409327  222201600   \n",
       "2      2015-05-11  28.328588  28.606671  28.173848  28.568547  168143200   \n",
       "3      2015-05-12  28.227673  28.454174  27.992198  28.167121  192640000   \n",
       "4      2015-05-13  28.259066  28.523693  28.227669  28.290462  138776800   \n",
       "..            ...        ...        ...        ...        ...        ...   \n",
       "98     2015-09-25  25.841375  26.287422  25.685935  26.231103  224607600   \n",
       "99     2015-09-28  25.330000  25.809837  25.330000  25.647638  208436000   \n",
       "100    2015-09-29  24.568560  25.571037  24.298230  25.417850  293461600   \n",
       "101    2015-09-30  24.847910  25.127251  24.494227  24.818623  265892000   \n",
       "102    2015-10-01  24.685699  24.694711  24.174323  24.570808  255716400   \n",
       "\n",
       "Price      MA_100  \n",
       "Ticker             \n",
       "0             NaN  \n",
       "1             NaN  \n",
       "2             NaN  \n",
       "3             NaN  \n",
       "4             NaN  \n",
       "..            ...  \n",
       "98            NaN  \n",
       "99      27.327291  \n",
       "100     27.292067  \n",
       "101     27.254345  \n",
       "102     27.217916  \n",
       "\n",
       "[103 rows x 7 columns]"
      ]
     },
     "execution_count": 71,
     "metadata": {},
     "output_type": "execute_result"
    }
   ],
   "source": [
    "df.head(103)"
   ]
  },
  {
   "cell_type": "code",
   "execution_count": 72,
   "id": "e894813d-3eab-4508-8040-41d2ffd3b55f",
   "metadata": {},
   "outputs": [
    {
     "data": {
      "text/plain": [
       "Text(0, 0.5, 'Price')"
      ]
     },
     "execution_count": 72,
     "metadata": {},
     "output_type": "execute_result"
    },
    {
     "data": {
      "image/png": "[encoded data removed]",
      "text/plain": [
       "<Figure size 1200x500 with 1 Axes>"
      ]
     },
     "metadata": {},
     "output_type": "display_data"
    }
   ],
   "source": [
    "plt.figure(figsize=(12, 5))\n",
    "plt.plot(df.Close)\n",
    "plt.plot(df['MA_100'], 'r')\n",
    "plt.title('100 Days Moving Average')\n",
    "plt.xlabel('Days')\n",
    "plt.ylabel('Price')"
   ]
  },
  {
   "cell_type": "markdown",
   "id": "1643d3a0-c803-4c61-9c31-ac2b271f24a0",
   "metadata": {},
   "source": [
    "### 200 days Moving Average"
   ]
  },
  {
   "cell_type": "code",
   "execution_count": 73,
   "id": "4c0a5339-01a4-4c45-ad2f-c5e4e9066759",
   "metadata": {},
   "outputs": [
    {
     "data": {
      "text/html": [
       "<div>\n",
       "<style scoped>\n",
       "    .dataframe tbody tr th:only-of-type {\n",
       "        vertical-align: middle;\n",
       "    }\n",
       "\n",
       "    .dataframe tbody tr th {\n",
       "        vertical-align: top;\n",
       "    }\n",
       "\n",
       "    .dataframe thead tr th {\n",
       "        text-align: left;\n",
       "    }\n",
       "</style>\n",
       "<table border=\"1\" class=\"dataframe\">\n",
       "  <thead>\n",
       "    <tr>\n",
       "      <th>Price</th>\n",
       "      <th>Date</th>\n",
       "      <th>Close</th>\n",
       "      <th>High</th>\n",
       "      <th>Low</th>\n",
       "      <th>Open</th>\n",
       "      <th>Volume</th>\n",
       "      <th>MA_100</th>\n",
       "      <th>MA_200</th>\n",
       "    </tr>\n",
       "    <tr>\n",
       "      <th>Ticker</th>\n",
       "      <th></th>\n",
       "      <th>AAPL</th>\n",
       "      <th>AAPL</th>\n",
       "      <th>AAPL</th>\n",
       "      <th>AAPL</th>\n",
       "      <th>AAPL</th>\n",
       "      <th></th>\n",
       "      <th></th>\n",
       "    </tr>\n",
       "  </thead>\n",
       "  <tbody>\n",
       "    <tr>\n",
       "      <th>0</th>\n",
       "      <td>2015-05-07</td>\n",
       "      <td>28.090878</td>\n",
       "      <td>28.274771</td>\n",
       "      <td>27.812793</td>\n",
       "      <td>27.980989</td>\n",
       "      <td>175763600</td>\n",
       "      <td>NaN</td>\n",
       "      <td>NaN</td>\n",
       "    </tr>\n",
       "    <tr>\n",
       "      <th>1</th>\n",
       "      <td>2015-05-08</td>\n",
       "      <td>28.620132</td>\n",
       "      <td>28.620132</td>\n",
       "      <td>28.281499</td>\n",
       "      <td>28.409327</td>\n",
       "      <td>222201600</td>\n",
       "      <td>NaN</td>\n",
       "      <td>NaN</td>\n",
       "    </tr>\n",
       "    <tr>\n",
       "      <th>2</th>\n",
       "      <td>2015-05-11</td>\n",
       "      <td>28.328588</td>\n",
       "      <td>28.606671</td>\n",
       "      <td>28.173848</td>\n",
       "      <td>28.568547</td>\n",
       "      <td>168143200</td>\n",
       "      <td>NaN</td>\n",
       "      <td>NaN</td>\n",
       "    </tr>\n",
       "    <tr>\n",
       "      <th>3</th>\n",
       "      <td>2015-05-12</td>\n",
       "      <td>28.227673</td>\n",
       "      <td>28.454174</td>\n",
       "      <td>27.992198</td>\n",
       "      <td>28.167121</td>\n",
       "      <td>192640000</td>\n",
       "      <td>NaN</td>\n",
       "      <td>NaN</td>\n",
       "    </tr>\n",
       "    <tr>\n",
       "      <th>4</th>\n",
       "      <td>2015-05-13</td>\n",
       "      <td>28.259066</td>\n",
       "      <td>28.523693</td>\n",
       "      <td>28.227669</td>\n",
       "      <td>28.290462</td>\n",
       "      <td>138776800</td>\n",
       "      <td>NaN</td>\n",
       "      <td>NaN</td>\n",
       "    </tr>\n",
       "    <tr>\n",
       "      <th>...</th>\n",
       "      <td>...</td>\n",
       "      <td>...</td>\n",
       "      <td>...</td>\n",
       "      <td>...</td>\n",
       "      <td>...</td>\n",
       "      <td>...</td>\n",
       "      <td>...</td>\n",
       "      <td>...</td>\n",
       "    </tr>\n",
       "    <tr>\n",
       "      <th>198</th>\n",
       "      <td>2016-02-19</td>\n",
       "      <td>21.845985</td>\n",
       "      <td>22.009762</td>\n",
       "      <td>21.791394</td>\n",
       "      <td>21.836887</td>\n",
       "      <td>141496800</td>\n",
       "      <td>24.538216</td>\n",
       "      <td>NaN</td>\n",
       "    </tr>\n",
       "    <tr>\n",
       "      <th>199</th>\n",
       "      <td>2016-02-22</td>\n",
       "      <td>22.037058</td>\n",
       "      <td>22.041608</td>\n",
       "      <td>21.818689</td>\n",
       "      <td>21.907401</td>\n",
       "      <td>137123200</td>\n",
       "      <td>24.505286</td>\n",
       "      <td>25.916289</td>\n",
       "    </tr>\n",
       "    <tr>\n",
       "      <th>200</th>\n",
       "      <td>2016-02-23</td>\n",
       "      <td>21.538902</td>\n",
       "      <td>21.950618</td>\n",
       "      <td>21.507057</td>\n",
       "      <td>21.927872</td>\n",
       "      <td>127770400</td>\n",
       "      <td>24.474990</td>\n",
       "      <td>25.883529</td>\n",
       "    </tr>\n",
       "    <tr>\n",
       "      <th>201</th>\n",
       "      <td>2016-02-24</td>\n",
       "      <td>21.859634</td>\n",
       "      <td>21.923325</td>\n",
       "      <td>21.227275</td>\n",
       "      <td>21.377404</td>\n",
       "      <td>145022800</td>\n",
       "      <td>24.445107</td>\n",
       "      <td>25.849726</td>\n",
       "    </tr>\n",
       "    <tr>\n",
       "      <th>202</th>\n",
       "      <td>2016-02-25</td>\n",
       "      <td>22.009764</td>\n",
       "      <td>22.009764</td>\n",
       "      <td>21.666287</td>\n",
       "      <td>21.848262</td>\n",
       "      <td>110330800</td>\n",
       "      <td>24.418348</td>\n",
       "      <td>25.818132</td>\n",
       "    </tr>\n",
       "  </tbody>\n",
       "</table>\n",
       "<p>203 rows × 8 columns</p>\n",
       "</div>"
      ],
      "text/plain": [
       "Price        Date      Close       High        Low       Open     Volume  \\\n",
       "Ticker                  AAPL       AAPL       AAPL       AAPL       AAPL   \n",
       "0      2015-05-07  28.090878  28.274771  27.812793  27.980989  175763600   \n",
       "1      2015-05-08  28.620132  28.620132  28.281499  28.409327  222201600   \n",
       "2      2015-05-11  28.328588  28.606671  28.173848  28.568547  168143200   \n",
       "3      2015-05-12  28.227673  28.454174  27.992198  28.167121  192640000   \n",
       "4      2015-05-13  28.259066  28.523693  28.227669  28.290462  138776800   \n",
       "..            ...        ...        ...        ...        ...        ...   \n",
       "198    2016-02-19  21.845985  22.009762  21.791394  21.836887  141496800   \n",
       "199    2016-02-22  22.037058  22.041608  21.818689  21.907401  137123200   \n",
       "200    2016-02-23  21.538902  21.950618  21.507057  21.927872  127770400   \n",
       "201    2016-02-24  21.859634  21.923325  21.227275  21.377404  145022800   \n",
       "202    2016-02-25  22.009764  22.009764  21.666287  21.848262  110330800   \n",
       "\n",
       "Price      MA_100     MA_200  \n",
       "Ticker                        \n",
       "0             NaN        NaN  \n",
       "1             NaN        NaN  \n",
       "2             NaN        NaN  \n",
       "3             NaN        NaN  \n",
       "4             NaN        NaN  \n",
       "..            ...        ...  \n",
       "198     24.538216        NaN  \n",
       "199     24.505286  25.916289  \n",
       "200     24.474990  25.883529  \n",
       "201     24.445107  25.849726  \n",
       "202     24.418348  25.818132  \n",
       "\n",
       "[203 rows x 8 columns]"
      ]
     },
     "execution_count": 73,
     "metadata": {},
     "output_type": "execute_result"
    }
   ],
   "source": [
    "df['MA_200'] = df.Close.rolling(200).mean()\n",
    "df.head(203)"
   ]
  },
  {
   "cell_type": "code",
   "execution_count": 74,
   "id": "bf292551-d499-4e55-b8a3-85e7b954005e",
   "metadata": {},
   "outputs": [
    {
     "data": {
      "text/plain": [
       "Text(0, 0.5, 'Price')"
      ]
     },
     "execution_count": 74,
     "metadata": {},
     "output_type": "execute_result"
    },
    {
     "data": {
      "image/png": "[encoded data removed]",
      "text/plain": [
       "<Figure size 1200x500 with 1 Axes>"
      ]
     },
     "metadata": {},
     "output_type": "display_data"
    }
   ],
   "source": [
    "plt.figure(figsize=(12, 5))\n",
    "plt.plot(df.Close)\n",
    "plt.plot(df['MA_100'], 'r')\n",
    "plt.plot(df['MA_200'], 'g')\n",
    "plt.title('200 Days Moving Average')\n",
    "plt.xlabel('Days')\n",
    "plt.ylabel('Price')"
   ]
  },
  {
   "cell_type": "code",
   "execution_count": 75,
   "id": "221ee9cc-465d-41a6-b771-757cee124da2",
   "metadata": {},
   "outputs": [
    {
     "data": {
      "text/html": [
       "<div>\n",
       "<style scoped>\n",
       "    .dataframe tbody tr th:only-of-type {\n",
       "        vertical-align: middle;\n",
       "    }\n",
       "\n",
       "    .dataframe tbody tr th {\n",
       "        vertical-align: top;\n",
       "    }\n",
       "\n",
       "    .dataframe thead tr th {\n",
       "        text-align: left;\n",
       "    }\n",
       "</style>\n",
       "<table border=\"1\" class=\"dataframe\">\n",
       "  <thead>\n",
       "    <tr>\n",
       "      <th>Price</th>\n",
       "      <th>Date</th>\n",
       "      <th>Close</th>\n",
       "      <th>High</th>\n",
       "      <th>Low</th>\n",
       "      <th>Open</th>\n",
       "      <th>Volume</th>\n",
       "      <th>MA_100</th>\n",
       "      <th>MA_200</th>\n",
       "    </tr>\n",
       "    <tr>\n",
       "      <th>Ticker</th>\n",
       "      <th></th>\n",
       "      <th>AAPL</th>\n",
       "      <th>AAPL</th>\n",
       "      <th>AAPL</th>\n",
       "      <th>AAPL</th>\n",
       "      <th>AAPL</th>\n",
       "      <th></th>\n",
       "      <th></th>\n",
       "    </tr>\n",
       "  </thead>\n",
       "  <tbody>\n",
       "    <tr>\n",
       "      <th>0</th>\n",
       "      <td>2015-05-07</td>\n",
       "      <td>28.090878</td>\n",
       "      <td>28.274771</td>\n",
       "      <td>27.812793</td>\n",
       "      <td>27.980989</td>\n",
       "      <td>175763600</td>\n",
       "      <td>NaN</td>\n",
       "      <td>NaN</td>\n",
       "    </tr>\n",
       "    <tr>\n",
       "      <th>1</th>\n",
       "      <td>2015-05-08</td>\n",
       "      <td>28.620132</td>\n",
       "      <td>28.620132</td>\n",
       "      <td>28.281499</td>\n",
       "      <td>28.409327</td>\n",
       "      <td>222201600</td>\n",
       "      <td>NaN</td>\n",
       "      <td>NaN</td>\n",
       "    </tr>\n",
       "    <tr>\n",
       "      <th>2</th>\n",
       "      <td>2015-05-11</td>\n",
       "      <td>28.328588</td>\n",
       "      <td>28.606671</td>\n",
       "      <td>28.173848</td>\n",
       "      <td>28.568547</td>\n",
       "      <td>168143200</td>\n",
       "      <td>NaN</td>\n",
       "      <td>NaN</td>\n",
       "    </tr>\n",
       "    <tr>\n",
       "      <th>3</th>\n",
       "      <td>2015-05-12</td>\n",
       "      <td>28.227673</td>\n",
       "      <td>28.454174</td>\n",
       "      <td>27.992198</td>\n",
       "      <td>28.167121</td>\n",
       "      <td>192640000</td>\n",
       "      <td>NaN</td>\n",
       "      <td>NaN</td>\n",
       "    </tr>\n",
       "    <tr>\n",
       "      <th>4</th>\n",
       "      <td>2015-05-13</td>\n",
       "      <td>28.259066</td>\n",
       "      <td>28.523693</td>\n",
       "      <td>28.227669</td>\n",
       "      <td>28.290462</td>\n",
       "      <td>138776800</td>\n",
       "      <td>NaN</td>\n",
       "      <td>NaN</td>\n",
       "    </tr>\n",
       "    <tr>\n",
       "      <th>...</th>\n",
       "      <td>...</td>\n",
       "      <td>...</td>\n",
       "      <td>...</td>\n",
       "      <td>...</td>\n",
       "      <td>...</td>\n",
       "      <td>...</td>\n",
       "      <td>...</td>\n",
       "      <td>...</td>\n",
       "    </tr>\n",
       "    <tr>\n",
       "      <th>2510</th>\n",
       "      <td>2025-04-30</td>\n",
       "      <td>212.500000</td>\n",
       "      <td>213.580002</td>\n",
       "      <td>206.669998</td>\n",
       "      <td>209.300003</td>\n",
       "      <td>52286500</td>\n",
       "      <td>228.670190</td>\n",
       "      <td>227.031225</td>\n",
       "    </tr>\n",
       "    <tr>\n",
       "      <th>2511</th>\n",
       "      <td>2025-05-01</td>\n",
       "      <td>213.320007</td>\n",
       "      <td>214.559998</td>\n",
       "      <td>208.899994</td>\n",
       "      <td>209.080002</td>\n",
       "      <td>57365700</td>\n",
       "      <td>228.375959</td>\n",
       "      <td>226.929751</td>\n",
       "    </tr>\n",
       "    <tr>\n",
       "      <th>2512</th>\n",
       "      <td>2025-05-02</td>\n",
       "      <td>205.350006</td>\n",
       "      <td>206.990005</td>\n",
       "      <td>202.160004</td>\n",
       "      <td>206.089996</td>\n",
       "      <td>101010600</td>\n",
       "      <td>228.001728</td>\n",
       "      <td>226.786334</td>\n",
       "    </tr>\n",
       "    <tr>\n",
       "      <th>2513</th>\n",
       "      <td>2025-05-05</td>\n",
       "      <td>198.889999</td>\n",
       "      <td>204.100006</td>\n",
       "      <td>198.210007</td>\n",
       "      <td>203.100006</td>\n",
       "      <td>69018500</td>\n",
       "      <td>227.564895</td>\n",
       "      <td>226.640217</td>\n",
       "    </tr>\n",
       "    <tr>\n",
       "      <th>2514</th>\n",
       "      <td>2025-05-06</td>\n",
       "      <td>198.509995</td>\n",
       "      <td>200.649994</td>\n",
       "      <td>197.020004</td>\n",
       "      <td>198.210007</td>\n",
       "      <td>49928900</td>\n",
       "      <td>227.085205</td>\n",
       "      <td>226.515622</td>\n",
       "    </tr>\n",
       "  </tbody>\n",
       "</table>\n",
       "<p>2515 rows × 8 columns</p>\n",
       "</div>"
      ],
      "text/plain": [
       "Price        Date       Close        High         Low        Open     Volume  \\\n",
       "Ticker                   AAPL        AAPL        AAPL        AAPL       AAPL   \n",
       "0      2015-05-07   28.090878   28.274771   27.812793   27.980989  175763600   \n",
       "1      2015-05-08   28.620132   28.620132   28.281499   28.409327  222201600   \n",
       "2      2015-05-11   28.328588   28.606671   28.173848   28.568547  168143200   \n",
       "3      2015-05-12   28.227673   28.454174   27.992198   28.167121  192640000   \n",
       "4      2015-05-13   28.259066   28.523693   28.227669   28.290462  138776800   \n",
       "...           ...         ...         ...         ...         ...        ...   \n",
       "2510   2025-04-30  212.500000  213.580002  206.669998  209.300003   52286500   \n",
       "2511   2025-05-01  213.320007  214.559998  208.899994  209.080002   57365700   \n",
       "2512   2025-05-02  205.350006  206.990005  202.160004  206.089996  101010600   \n",
       "2513   2025-05-05  198.889999  204.100006  198.210007  203.100006   69018500   \n",
       "2514   2025-05-06  198.509995  200.649994  197.020004  198.210007   49928900   \n",
       "\n",
       "Price       MA_100      MA_200  \n",
       "Ticker                          \n",
       "0              NaN         NaN  \n",
       "1              NaN         NaN  \n",
       "2              NaN         NaN  \n",
       "3              NaN         NaN  \n",
       "4              NaN         NaN  \n",
       "...            ...         ...  \n",
       "2510    228.670190  227.031225  \n",
       "2511    228.375959  226.929751  \n",
       "2512    228.001728  226.786334  \n",
       "2513    227.564895  226.640217  \n",
       "2514    227.085205  226.515622  \n",
       "\n",
       "[2515 rows x 8 columns]"
      ]
     },
     "execution_count": 75,
     "metadata": {},
     "output_type": "execute_result"
    }
   ],
   "source": [
    "df"
   ]
  },
  {
   "cell_type": "markdown",
   "id": "9e372097-c89a-43ad-beb6-f013f15bead3",
   "metadata": {},
   "source": [
    "### Calculating % changed in each trading session"
   ]
  },
  {
   "cell_type": "code",
   "execution_count": 76,
   "id": "ebb5ed1a-aa0c-4c62-be77-a164e3dd5201",
   "metadata": {},
   "outputs": [
    {
     "data": {
      "text/html": [
       "<div>\n",
       "<style scoped>\n",
       "    .dataframe tbody tr th:only-of-type {\n",
       "        vertical-align: middle;\n",
       "    }\n",
       "\n",
       "    .dataframe tbody tr th {\n",
       "        vertical-align: top;\n",
       "    }\n",
       "\n",
       "    .dataframe thead tr th {\n",
       "        text-align: left;\n",
       "    }\n",
       "</style>\n",
       "<table border=\"1\" class=\"dataframe\">\n",
       "  <thead>\n",
       "    <tr>\n",
       "      <th>Price</th>\n",
       "      <th>Close</th>\n",
       "      <th>Percentage Chaged</th>\n",
       "    </tr>\n",
       "    <tr>\n",
       "      <th>Ticker</th>\n",
       "      <th>AAPL</th>\n",
       "      <th></th>\n",
       "    </tr>\n",
       "  </thead>\n",
       "  <tbody>\n",
       "    <tr>\n",
       "      <th>0</th>\n",
       "      <td>28.090878</td>\n",
       "      <td>NaN</td>\n",
       "    </tr>\n",
       "    <tr>\n",
       "      <th>1</th>\n",
       "      <td>28.620132</td>\n",
       "      <td>0.018841</td>\n",
       "    </tr>\n",
       "    <tr>\n",
       "      <th>2</th>\n",
       "      <td>28.328588</td>\n",
       "      <td>-0.010187</td>\n",
       "    </tr>\n",
       "    <tr>\n",
       "      <th>3</th>\n",
       "      <td>28.227673</td>\n",
       "      <td>-0.003562</td>\n",
       "    </tr>\n",
       "    <tr>\n",
       "      <th>4</th>\n",
       "      <td>28.259066</td>\n",
       "      <td>0.001112</td>\n",
       "    </tr>\n",
       "    <tr>\n",
       "      <th>...</th>\n",
       "      <td>...</td>\n",
       "      <td>...</td>\n",
       "    </tr>\n",
       "    <tr>\n",
       "      <th>2510</th>\n",
       "      <td>212.500000</td>\n",
       "      <td>0.006108</td>\n",
       "    </tr>\n",
       "    <tr>\n",
       "      <th>2511</th>\n",
       "      <td>213.320007</td>\n",
       "      <td>0.003859</td>\n",
       "    </tr>\n",
       "    <tr>\n",
       "      <th>2512</th>\n",
       "      <td>205.350006</td>\n",
       "      <td>-0.037362</td>\n",
       "    </tr>\n",
       "    <tr>\n",
       "      <th>2513</th>\n",
       "      <td>198.889999</td>\n",
       "      <td>-0.031459</td>\n",
       "    </tr>\n",
       "    <tr>\n",
       "      <th>2514</th>\n",
       "      <td>198.509995</td>\n",
       "      <td>-0.001911</td>\n",
       "    </tr>\n",
       "  </tbody>\n",
       "</table>\n",
       "<p>2515 rows × 2 columns</p>\n",
       "</div>"
      ],
      "text/plain": [
       "Price        Close Percentage Chaged\n",
       "Ticker        AAPL                  \n",
       "0        28.090878               NaN\n",
       "1        28.620132          0.018841\n",
       "2        28.328588         -0.010187\n",
       "3        28.227673         -0.003562\n",
       "4        28.259066          0.001112\n",
       "...            ...               ...\n",
       "2510    212.500000          0.006108\n",
       "2511    213.320007          0.003859\n",
       "2512    205.350006         -0.037362\n",
       "2513    198.889999         -0.031459\n",
       "2514    198.509995         -0.001911\n",
       "\n",
       "[2515 rows x 2 columns]"
      ]
     },
     "execution_count": 76,
     "metadata": {},
     "output_type": "execute_result"
    }
   ],
   "source": [
    "df['Percentage Chaged'] = df.Close.pct_change()\n",
    "df[['Close', 'Percentage Chaged']]"
   ]
  },
  {
   "cell_type": "code",
   "execution_count": 77,
   "id": "1ad84daf-0d02-4313-afb9-11ac193bd91e",
   "metadata": {},
   "outputs": [
    {
     "data": {
      "text/plain": [
       "[<matplotlib.lines.Line2D at 0x220a5ec9850>]"
      ]
     },
     "execution_count": 77,
     "metadata": {},
     "output_type": "execute_result"
    },
    {
     "data": {
      "image/png": "[encoded data removed]",
      "text/plain": [
       "<Figure size 1200x500 with 1 Axes>"
      ]
     },
     "metadata": {},
     "output_type": "display_data"
    }
   ],
   "source": [
    "plt.figure(figsize=(12, 5))\n",
    "plt.plot(df['Percentage Chaged'])"
   ]
  },
  {
   "cell_type": "markdown",
   "id": "d41aae84-1e3f-42e3-8fc5-4b14f8e06162",
   "metadata": {},
   "source": [
    "# 4. Data Preprocessing"
   ]
  },
  {
   "cell_type": "code",
   "execution_count": 78,
   "id": "a31ef9b6-2409-4f8c-92b9-942705ad7713",
   "metadata": {},
   "outputs": [
    {
     "data": {
      "text/plain": [
       "(2515, 9)"
      ]
     },
     "execution_count": 78,
     "metadata": {},
     "output_type": "execute_result"
    }
   ],
   "source": [
    "df.shape"
   ]
  },
  {
   "cell_type": "code",
   "execution_count": 79,
   "id": "31e47f9a-39a4-4ec9-a030-0db24f6b7bf9",
   "metadata": {},
   "outputs": [
    {
     "name": "stdout",
     "output_type": "stream",
     "text": [
      "Ticker        AAPL\n",
      "0        28.090878\n",
      "1        28.620132\n",
      "2        28.328588\n",
      "3        28.227673\n",
      "4        28.259066\n",
      "...            ...\n",
      "1755    154.299820\n",
      "1756    154.073471\n",
      "1757    161.030746\n",
      "1758    155.136246\n",
      "1759    155.441299\n",
      "\n",
      "[1760 rows x 1 columns]\n",
      "Ticker        AAPL\n",
      "1760    156.937057\n",
      "1761    163.372772\n",
      "1762    154.270294\n",
      "1763    154.999542\n",
      "1764    149.855209\n",
      "...            ...\n",
      "2510    212.500000\n",
      "2511    213.320007\n",
      "2512    205.350006\n",
      "2513    198.889999\n",
      "2514    198.509995\n",
      "\n",
      "[755 rows x 1 columns]\n"
     ]
    }
   ],
   "source": [
    " # Splitting data into Training & Testing datasets\n",
    "data_training = pd.DataFrame(df.Close[0:int(len(df)*0.7)])\n",
    "data_testing = pd.DataFrame(df.Close[int(len(df)*0.7):int(len(df))])\n",
    "print(data_training)\n",
    "print(data_testing)"
   ]
  },
  {
   "cell_type": "code",
   "execution_count": 80,
   "id": "8532e7e5-889b-4753-bf21-63a4bbf018c8",
   "metadata": {},
   "outputs": [
    {
     "data": {
      "text/html": [
       "<div>\n",
       "<style scoped>\n",
       "    .dataframe tbody tr th:only-of-type {\n",
       "        vertical-align: middle;\n",
       "    }\n",
       "\n",
       "    .dataframe tbody tr th {\n",
       "        vertical-align: top;\n",
       "    }\n",
       "\n",
       "    .dataframe thead th {\n",
       "        text-align: right;\n",
       "    }\n",
       "</style>\n",
       "<table border=\"1\" class=\"dataframe\">\n",
       "  <thead>\n",
       "    <tr style=\"text-align: right;\">\n",
       "      <th>Ticker</th>\n",
       "      <th>AAPL</th>\n",
       "    </tr>\n",
       "  </thead>\n",
       "  <tbody>\n",
       "    <tr>\n",
       "      <th>0</th>\n",
       "      <td>28.090878</td>\n",
       "    </tr>\n",
       "    <tr>\n",
       "      <th>1</th>\n",
       "      <td>28.620132</td>\n",
       "    </tr>\n",
       "    <tr>\n",
       "      <th>2</th>\n",
       "      <td>28.328588</td>\n",
       "    </tr>\n",
       "    <tr>\n",
       "      <th>3</th>\n",
       "      <td>28.227673</td>\n",
       "    </tr>\n",
       "    <tr>\n",
       "      <th>4</th>\n",
       "      <td>28.259066</td>\n",
       "    </tr>\n",
       "    <tr>\n",
       "      <th>...</th>\n",
       "      <td>...</td>\n",
       "    </tr>\n",
       "    <tr>\n",
       "      <th>1755</th>\n",
       "      <td>154.299820</td>\n",
       "    </tr>\n",
       "    <tr>\n",
       "      <th>1756</th>\n",
       "      <td>154.073471</td>\n",
       "    </tr>\n",
       "    <tr>\n",
       "      <th>1757</th>\n",
       "      <td>161.030746</td>\n",
       "    </tr>\n",
       "    <tr>\n",
       "      <th>1758</th>\n",
       "      <td>155.136246</td>\n",
       "    </tr>\n",
       "    <tr>\n",
       "      <th>1759</th>\n",
       "      <td>155.441299</td>\n",
       "    </tr>\n",
       "  </tbody>\n",
       "</table>\n",
       "<p>1760 rows × 1 columns</p>\n",
       "</div>"
      ],
      "text/plain": [
       "Ticker        AAPL\n",
       "0        28.090878\n",
       "1        28.620132\n",
       "2        28.328588\n",
       "3        28.227673\n",
       "4        28.259066\n",
       "...            ...\n",
       "1755    154.299820\n",
       "1756    154.073471\n",
       "1757    161.030746\n",
       "1758    155.136246\n",
       "1759    155.441299\n",
       "\n",
       "[1760 rows x 1 columns]"
      ]
     },
     "execution_count": 80,
     "metadata": {},
     "output_type": "execute_result"
    }
   ],
   "source": [
    "data_training"
   ]
  },
  {
   "cell_type": "code",
   "execution_count": 81,
   "id": "b9ed63d6-b738-4bd4-b21a-64478373288e",
   "metadata": {},
   "outputs": [
    {
     "data": {
      "text/html": [
       "<div>\n",
       "<style scoped>\n",
       "    .dataframe tbody tr th:only-of-type {\n",
       "        vertical-align: middle;\n",
       "    }\n",
       "\n",
       "    .dataframe tbody tr th {\n",
       "        vertical-align: top;\n",
       "    }\n",
       "\n",
       "    .dataframe thead th {\n",
       "        text-align: right;\n",
       "    }\n",
       "</style>\n",
       "<table border=\"1\" class=\"dataframe\">\n",
       "  <thead>\n",
       "    <tr style=\"text-align: right;\">\n",
       "      <th>Ticker</th>\n",
       "      <th>AAPL</th>\n",
       "    </tr>\n",
       "  </thead>\n",
       "  <tbody>\n",
       "    <tr>\n",
       "      <th>1760</th>\n",
       "      <td>156.937057</td>\n",
       "    </tr>\n",
       "    <tr>\n",
       "      <th>1761</th>\n",
       "      <td>163.372772</td>\n",
       "    </tr>\n",
       "    <tr>\n",
       "      <th>1762</th>\n",
       "      <td>154.270294</td>\n",
       "    </tr>\n",
       "    <tr>\n",
       "      <th>1763</th>\n",
       "      <td>154.999542</td>\n",
       "    </tr>\n",
       "    <tr>\n",
       "      <th>1764</th>\n",
       "      <td>149.855209</td>\n",
       "    </tr>\n",
       "    <tr>\n",
       "      <th>...</th>\n",
       "      <td>...</td>\n",
       "    </tr>\n",
       "    <tr>\n",
       "      <th>2510</th>\n",
       "      <td>212.500000</td>\n",
       "    </tr>\n",
       "    <tr>\n",
       "      <th>2511</th>\n",
       "      <td>213.320007</td>\n",
       "    </tr>\n",
       "    <tr>\n",
       "      <th>2512</th>\n",
       "      <td>205.350006</td>\n",
       "    </tr>\n",
       "    <tr>\n",
       "      <th>2513</th>\n",
       "      <td>198.889999</td>\n",
       "    </tr>\n",
       "    <tr>\n",
       "      <th>2514</th>\n",
       "      <td>198.509995</td>\n",
       "    </tr>\n",
       "  </tbody>\n",
       "</table>\n",
       "<p>755 rows × 1 columns</p>\n",
       "</div>"
      ],
      "text/plain": [
       "Ticker        AAPL\n",
       "1760    156.937057\n",
       "1761    163.372772\n",
       "1762    154.270294\n",
       "1763    154.999542\n",
       "1764    149.855209\n",
       "...            ...\n",
       "2510    212.500000\n",
       "2511    213.320007\n",
       "2512    205.350006\n",
       "2513    198.889999\n",
       "2514    198.509995\n",
       "\n",
       "[755 rows x 1 columns]"
      ]
     },
     "execution_count": 81,
     "metadata": {},
     "output_type": "execute_result"
    }
   ],
   "source": [
    "data_testing"
   ]
  },
  {
   "cell_type": "code",
   "execution_count": 82,
   "id": "81273197-0758-4245-9a7d-9945471507cc",
   "metadata": {},
   "outputs": [],
   "source": [
    "# # Scaling down the data between 0 and 1"
   ]
  },
  {
   "cell_type": "code",
   "execution_count": 83,
   "id": "5925194a-5477-4f56-b3ff-3310bb619482",
   "metadata": {},
   "outputs": [],
   "source": [
    "from sklearn.preprocessing import MinMaxScaler\n",
    "scaler = MinMaxScaler(feature_range=(0,1))"
   ]
  },
  {
   "cell_type": "code",
   "execution_count": 84,
   "id": "d333361e-afba-4e88-bf3c-f79c83f32ef5",
   "metadata": {},
   "outputs": [
    {
     "data": {
      "text/plain": [
       "array([[0.04687794],\n",
       "       [0.05022331],\n",
       "       [0.04838049],\n",
       "       ...,\n",
       "       [0.88717733],\n",
       "       [0.84991879],\n",
       "       [0.851847  ]])"
      ]
     },
     "execution_count": 84,
     "metadata": {},
     "output_type": "execute_result"
    }
   ],
   "source": [
    "data_training_array = scaler.fit_transform(data_training)\n",
    "data_training_array"
   ]
  },
  {
   "cell_type": "code",
   "execution_count": 85,
   "id": "d480cfd8-5d5c-47ee-9068-e9a46432992c",
   "metadata": {},
   "outputs": [
    {
     "data": {
      "text/plain": [
       "numpy.ndarray"
      ]
     },
     "execution_count": 85,
     "metadata": {},
     "output_type": "execute_result"
    }
   ],
   "source": [
    "type(data_training_array)"
   ]
  },
  {
   "cell_type": "code",
   "execution_count": 86,
   "id": "7a88b88d-4dfd-43ca-a444-8255d4fa4b18",
   "metadata": {},
   "outputs": [
    {
     "data": {
      "text/plain": [
       "(1760, 1)"
      ]
     },
     "execution_count": 86,
     "metadata": {},
     "output_type": "execute_result"
    }
   ],
   "source": [
    "data_training_array.shape"
   ]
  },
  {
   "cell_type": "markdown",
   "id": "833e3e8b-2b8e-4da8-9eab-00e97b124a80",
   "metadata": {},
   "source": [
    "# 5. Sequence Creation"
   ]
  },
  {
   "cell_type": "code",
   "execution_count": 87,
   "id": "a925ce5e-31ae-48a2-b825-0af9cbf754f2",
   "metadata": {},
   "outputs": [],
   "source": [
    "# 12, 15, 10, 14, 16, 18, 19, 20, 21, 20      22"
   ]
  },
  {
   "cell_type": "code",
   "execution_count": 88,
   "id": "bb1d2b4f-9aa6-4310-962c-cd8e77303d6d",
   "metadata": {},
   "outputs": [],
   "source": [
    "x_train = []\n",
    "y_train = []\n",
    "for i in range(100, data_training_array.shape[0]):\n",
    "    x_train.append(data_training_array[i-100: i])\n",
    "    y_train.append(data_training_array[i,0])\n",
    "\n",
    "x_train,y_train = np.array(x_train),np.array(y_train)"
   ]
  },
  {
   "cell_type": "code",
   "execution_count": 89,
   "id": "c4d7a684-16b0-44f4-89e2-140e2de74f42",
   "metadata": {},
   "outputs": [
    {
     "data": {
      "text/plain": [
       "array([[[0.04687794],\n",
       "        [0.05022331],\n",
       "        [0.04838049],\n",
       "        ...,\n",
       "        [0.03307201],\n",
       "        [0.03265907],\n",
       "        [0.02942672]],\n",
       "\n",
       "       [[0.05022331],\n",
       "        [0.04838049],\n",
       "        [0.04774261],\n",
       "        ...,\n",
       "        [0.03265907],\n",
       "        [0.02942672],\n",
       "        [0.02461373]],\n",
       "\n",
       "       [[0.04838049],\n",
       "        [0.04774261],\n",
       "        [0.04794104],\n",
       "        ...,\n",
       "        [0.02942672],\n",
       "        [0.02461373],\n",
       "        [0.02637947]],\n",
       "\n",
       "       ...,\n",
       "\n",
       "       [[0.87470027],\n",
       "        [0.89631869],\n",
       "        [0.93272192],\n",
       "        ...,\n",
       "        [0.88245006],\n",
       "        [0.84463183],\n",
       "        [0.8432011 ]],\n",
       "\n",
       "       [[0.89631869],\n",
       "        [0.93272192],\n",
       "        [0.95694959],\n",
       "        ...,\n",
       "        [0.84463183],\n",
       "        [0.8432011 ],\n",
       "        [0.88717733]],\n",
       "\n",
       "       [[0.93272192],\n",
       "        [0.95694959],\n",
       "        [0.9537195 ],\n",
       "        ...,\n",
       "        [0.8432011 ],\n",
       "        [0.88717733],\n",
       "        [0.84991879]]])"
      ]
     },
     "execution_count": 89,
     "metadata": {},
     "output_type": "execute_result"
    }
   ],
   "source": [
    "x_train"
   ]
  },
  {
   "cell_type": "code",
   "execution_count": 90,
   "id": "99bc2b0f-ba75-4b75-bb8d-1678dd31c34b",
   "metadata": {},
   "outputs": [
    {
     "data": {
      "text/plain": [
       "3"
      ]
     },
     "execution_count": 90,
     "metadata": {},
     "output_type": "execute_result"
    }
   ],
   "source": [
    "x_train.ndim"
   ]
  },
  {
   "cell_type": "code",
   "execution_count": 91,
   "id": "0ebee172-7f7d-492a-8e96-bf7581ba4038",
   "metadata": {},
   "outputs": [
    {
     "data": {
      "text/plain": [
       "1"
      ]
     },
     "execution_count": 91,
     "metadata": {},
     "output_type": "execute_result"
    }
   ],
   "source": [
    "y_train.ndim"
   ]
  },
  {
   "cell_type": "code",
   "execution_count": 92,
   "id": "a8906c92-5004-42c4-82d4-fa484cb699a7",
   "metadata": {},
   "outputs": [
    {
     "data": {
      "text/plain": [
       "(1660, 100, 1)"
      ]
     },
     "execution_count": 92,
     "metadata": {},
     "output_type": "execute_result"
    }
   ],
   "source": [
    "x_train.shape"
   ]
  },
  {
   "cell_type": "code",
   "execution_count": 93,
   "id": "94b7721e-e36b-4120-8529-0caea6abdd66",
   "metadata": {},
   "outputs": [
    {
     "data": {
      "text/plain": [
       "(1660,)"
      ]
     },
     "execution_count": 93,
     "metadata": {},
     "output_type": "execute_result"
    }
   ],
   "source": [
    "y_train.shape"
   ]
  },
  {
   "cell_type": "markdown",
   "id": "c1bc9ad2-e195-44c3-885e-e15ee6abefd4",
   "metadata": {},
   "source": [
    "# 6. Model Building"
   ]
  },
  {
   "cell_type": "code",
   "execution_count": 98,
   "id": "d54b8a87-595a-4318-8ad5-391b59f76da5",
   "metadata": {},
   "outputs": [
    {
     "name": "stdout",
     "output_type": "stream",
     "text": [
      "2.19.0\n"
     ]
    }
   ],
   "source": [
    "import tensorflow as tf\n",
    "print(tf.__version__)"
   ]
  },
  {
   "cell_type": "code",
   "execution_count": 95,
   "id": "558e8ed8-cb79-4105-9689-a57805e0da94",
   "metadata": {},
   "outputs": [],
   "source": [
    "# ML Model\n",
    "from keras.models import Sequential\n",
    "from keras.layers import Dense,LSTM,Input"
   ]
  },
  {
   "cell_type": "code",
   "execution_count": 96,
   "id": "bd0df14b-d65f-44ae-ae71-35da1a72c7b0",
   "metadata": {},
   "outputs": [],
   "source": [
    "model = Sequential()\n",
    "model.add(Input(shape=(100,1)))\n",
    "model.add(LSTM(units=128, activation='tanh', return_sequences=True))\n",
    "model.add(LSTM(units=64))\n",
    "model.add(Dense(25))\n",
    "model.add(Dense(1))"
   ]
  },
  {
   "cell_type": "markdown",
   "id": "c80c4865-c8e6-47c2-8ce3-238d3a18d90f",
   "metadata": {},
   "source": [
    "# 7. Model Training"
   ]
  },
  {
   "cell_type": "code",
   "execution_count": 99,
   "id": "bce6f1df-48ca-4275-8fcc-eec4062eb65f",
   "metadata": {},
   "outputs": [
    {
     "name": "stdout",
     "output_type": "stream",
     "text": [
      "Epoch 1/50\n",
      "\u001b[1m52/52\u001b[0m \u001b[32m━━━━━━━━━━━━━━━━━━━━\u001b[0m\u001b[37m\u001b[0m \u001b[1m7s\u001b[0m 64ms/step - loss: 0.0287\n",
      "Epoch 2/50\n",
      "\u001b[1m52/52\u001b[0m \u001b[32m━━━━━━━━━━━━━━━━━━━━\u001b[0m\u001b[37m\u001b[0m \u001b[1m3s\u001b[0m 65ms/step - loss: 5.7610e-04\n",
      "Epoch 3/50\n",
      "\u001b[1m52/52\u001b[0m \u001b[32m━━━━━━━━━━━━━━━━━━━━\u001b[0m\u001b[37m\u001b[0m \u001b[1m3s\u001b[0m 63ms/step - loss: 5.0680e-04\n",
      "Epoch 4/50\n",
      "\u001b[1m52/52\u001b[0m \u001b[32m━━━━━━━━━━━━━━━━━━━━\u001b[0m\u001b[37m\u001b[0m \u001b[1m5s\u001b[0m 59ms/step - loss: 4.9919e-04\n",
      "Epoch 5/50\n",
      "\u001b[1m52/52\u001b[0m \u001b[32m━━━━━━━━━━━━━━━━━━━━\u001b[0m\u001b[37m\u001b[0m \u001b[1m3s\u001b[0m 64ms/step - loss: 3.9792e-04\n",
      "Epoch 6/50\n",
      "\u001b[1m52/52\u001b[0m \u001b[32m━━━━━━━━━━━━━━━━━━━━\u001b[0m\u001b[37m\u001b[0m \u001b[1m4s\u001b[0m 69ms/step - loss: 4.6414e-04\n",
      "Epoch 7/50\n",
      "\u001b[1m52/52\u001b[0m \u001b[32m━━━━━━━━━━━━━━━━━━━━\u001b[0m\u001b[37m\u001b[0m \u001b[1m4s\u001b[0m 71ms/step - loss: 4.5667e-04\n",
      "Epoch 8/50\n",
      "\u001b[1m52/52\u001b[0m \u001b[32m━━━━━━━━━━━━━━━━━━━━\u001b[0m\u001b[37m\u001b[0m \u001b[1m3s\u001b[0m 61ms/step - loss: 3.9125e-04\n",
      "Epoch 9/50\n",
      "\u001b[1m52/52\u001b[0m \u001b[32m━━━━━━━━━━━━━━━━━━━━\u001b[0m\u001b[37m\u001b[0m \u001b[1m3s\u001b[0m 61ms/step - loss: 3.9209e-04\n",
      "Epoch 10/50\n",
      "\u001b[1m52/52\u001b[0m \u001b[32m━━━━━━━━━━━━━━━━━━━━\u001b[0m\u001b[37m\u001b[0m \u001b[1m3s\u001b[0m 63ms/step - loss: 3.6840e-04\n",
      "Epoch 11/50\n",
      "\u001b[1m52/52\u001b[0m \u001b[32m━━━━━━━━━━━━━━━━━━━━\u001b[0m\u001b[37m\u001b[0m \u001b[1m4s\u001b[0m 80ms/step - loss: 3.8212e-04\n",
      "Epoch 12/50\n",
      "\u001b[1m52/52\u001b[0m \u001b[32m━━━━━━━━━━━━━━━━━━━━\u001b[0m\u001b[37m\u001b[0m \u001b[1m3s\u001b[0m 66ms/step - loss: 4.3017e-04\n",
      "Epoch 13/50\n",
      "\u001b[1m52/52\u001b[0m \u001b[32m━━━━━━━━━━━━━━━━━━━━\u001b[0m\u001b[37m\u001b[0m \u001b[1m3s\u001b[0m 59ms/step - loss: 3.3071e-04\n",
      "Epoch 14/50\n",
      "\u001b[1m52/52\u001b[0m \u001b[32m━━━━━━━━━━━━━━━━━━━━\u001b[0m\u001b[37m\u001b[0m \u001b[1m3s\u001b[0m 60ms/step - loss: 3.5912e-04\n",
      "Epoch 15/50\n",
      "\u001b[1m52/52\u001b[0m \u001b[32m━━━━━━━━━━━━━━━━━━━━\u001b[0m\u001b[37m\u001b[0m \u001b[1m3s\u001b[0m 63ms/step - loss: 4.2526e-04\n",
      "Epoch 16/50\n",
      "\u001b[1m52/52\u001b[0m \u001b[32m━━━━━━━━━━━━━━━━━━━━\u001b[0m\u001b[37m\u001b[0m \u001b[1m3s\u001b[0m 58ms/step - loss: 2.7561e-04\n",
      "Epoch 17/50\n",
      "\u001b[1m52/52\u001b[0m \u001b[32m━━━━━━━━━━━━━━━━━━━━\u001b[0m\u001b[37m\u001b[0m \u001b[1m3s\u001b[0m 61ms/step - loss: 3.2093e-04\n",
      "Epoch 18/50\n",
      "\u001b[1m52/52\u001b[0m \u001b[32m━━━━━━━━━━━━━━━━━━━━\u001b[0m\u001b[37m\u001b[0m \u001b[1m4s\u001b[0m 73ms/step - loss: 2.4020e-04\n",
      "Epoch 19/50\n",
      "\u001b[1m52/52\u001b[0m \u001b[32m━━━━━━━━━━━━━━━━━━━━\u001b[0m\u001b[37m\u001b[0m \u001b[1m3s\u001b[0m 66ms/step - loss: 2.5140e-04\n",
      "Epoch 20/50\n",
      "\u001b[1m52/52\u001b[0m \u001b[32m━━━━━━━━━━━━━━━━━━━━\u001b[0m\u001b[37m\u001b[0m \u001b[1m5s\u001b[0m 68ms/step - loss: 4.0178e-04\n",
      "Epoch 21/50\n",
      "\u001b[1m52/52\u001b[0m \u001b[32m━━━━━━━━━━━━━━━━━━━━\u001b[0m\u001b[37m\u001b[0m \u001b[1m3s\u001b[0m 60ms/step - loss: 3.2452e-04\n",
      "Epoch 22/50\n",
      "\u001b[1m52/52\u001b[0m \u001b[32m━━━━━━━━━━━━━━━━━━━━\u001b[0m\u001b[37m\u001b[0m \u001b[1m3s\u001b[0m 58ms/step - loss: 3.6271e-04\n",
      "Epoch 23/50\n",
      "\u001b[1m52/52\u001b[0m \u001b[32m━━━━━━━━━━━━━━━━━━━━\u001b[0m\u001b[37m\u001b[0m \u001b[1m3s\u001b[0m 65ms/step - loss: 2.6422e-04\n",
      "Epoch 24/50\n",
      "\u001b[1m52/52\u001b[0m \u001b[32m━━━━━━━━━━━━━━━━━━━━\u001b[0m\u001b[37m\u001b[0m \u001b[1m5s\u001b[0m 69ms/step - loss: 2.4621e-04\n",
      "Epoch 25/50\n",
      "\u001b[1m52/52\u001b[0m \u001b[32m━━━━━━━━━━━━━━━━━━━━\u001b[0m\u001b[37m\u001b[0m \u001b[1m3s\u001b[0m 66ms/step - loss: 3.3122e-04\n",
      "Epoch 26/50\n",
      "\u001b[1m52/52\u001b[0m \u001b[32m━━━━━━━━━━━━━━━━━━━━\u001b[0m\u001b[37m\u001b[0m \u001b[1m6s\u001b[0m 79ms/step - loss: 2.1468e-04 \n",
      "Epoch 27/50\n",
      "\u001b[1m52/52\u001b[0m \u001b[32m━━━━━━━━━━━━━━━━━━━━\u001b[0m\u001b[37m\u001b[0m \u001b[1m4s\u001b[0m 64ms/step - loss: 2.3860e-04 \n",
      "Epoch 28/50\n",
      "\u001b[1m52/52\u001b[0m \u001b[32m━━━━━━━━━━━━━━━━━━━━\u001b[0m\u001b[37m\u001b[0m \u001b[1m6s\u001b[0m 78ms/step - loss: 1.8820e-04 \n",
      "Epoch 29/50\n",
      "\u001b[1m52/52\u001b[0m \u001b[32m━━━━━━━━━━━━━━━━━━━━\u001b[0m\u001b[37m\u001b[0m \u001b[1m4s\u001b[0m 71ms/step - loss: 2.2279e-04\n",
      "Epoch 30/50\n",
      "\u001b[1m52/52\u001b[0m \u001b[32m━━━━━━━━━━━━━━━━━━━━\u001b[0m\u001b[37m\u001b[0m \u001b[1m5s\u001b[0m 73ms/step - loss: 2.0439e-04\n",
      "Epoch 31/50\n",
      "\u001b[1m52/52\u001b[0m \u001b[32m━━━━━━━━━━━━━━━━━━━━\u001b[0m\u001b[37m\u001b[0m \u001b[1m3s\u001b[0m 64ms/step - loss: 2.4057e-04\n",
      "Epoch 32/50\n",
      "\u001b[1m52/52\u001b[0m \u001b[32m━━━━━━━━━━━━━━━━━━━━\u001b[0m\u001b[37m\u001b[0m \u001b[1m4s\u001b[0m 71ms/step - loss: 2.0361e-04\n",
      "Epoch 33/50\n",
      "\u001b[1m52/52\u001b[0m \u001b[32m━━━━━━━━━━━━━━━━━━━━\u001b[0m\u001b[37m\u001b[0m \u001b[1m4s\u001b[0m 68ms/step - loss: 2.3694e-04\n",
      "Epoch 34/50\n",
      "\u001b[1m52/52\u001b[0m \u001b[32m━━━━━━━━━━━━━━━━━━━━\u001b[0m\u001b[37m\u001b[0m \u001b[1m4s\u001b[0m 69ms/step - loss: 2.5074e-04\n",
      "Epoch 35/50\n",
      "\u001b[1m52/52\u001b[0m \u001b[32m━━━━━━━━━━━━━━━━━━━━\u001b[0m\u001b[37m\u001b[0m \u001b[1m4s\u001b[0m 77ms/step - loss: 2.2360e-04\n",
      "Epoch 36/50\n",
      "\u001b[1m52/52\u001b[0m \u001b[32m━━━━━━━━━━━━━━━━━━━━\u001b[0m\u001b[37m\u001b[0m \u001b[1m4s\u001b[0m 69ms/step - loss: 1.9848e-04 \n",
      "Epoch 37/50\n",
      "\u001b[1m52/52\u001b[0m \u001b[32m━━━━━━━━━━━━━━━━━━━━\u001b[0m\u001b[37m\u001b[0m \u001b[1m3s\u001b[0m 62ms/step - loss: 1.9376e-04\n",
      "Epoch 38/50\n",
      "\u001b[1m52/52\u001b[0m \u001b[32m━━━━━━━━━━━━━━━━━━━━\u001b[0m\u001b[37m\u001b[0m \u001b[1m4s\u001b[0m 86ms/step - loss: 1.8398e-04\n",
      "Epoch 39/50\n",
      "\u001b[1m52/52\u001b[0m \u001b[32m━━━━━━━━━━━━━━━━━━━━\u001b[0m\u001b[37m\u001b[0m \u001b[1m5s\u001b[0m 79ms/step - loss: 2.0286e-04\n",
      "Epoch 40/50\n",
      "\u001b[1m52/52\u001b[0m \u001b[32m━━━━━━━━━━━━━━━━━━━━\u001b[0m\u001b[37m\u001b[0m \u001b[1m4s\u001b[0m 74ms/step - loss: 2.1946e-04\n",
      "Epoch 41/50\n",
      "\u001b[1m52/52\u001b[0m \u001b[32m━━━━━━━━━━━━━━━━━━━━\u001b[0m\u001b[37m\u001b[0m \u001b[1m5s\u001b[0m 65ms/step - loss: 1.6526e-04\n",
      "Epoch 42/50\n",
      "\u001b[1m52/52\u001b[0m \u001b[32m━━━━━━━━━━━━━━━━━━━━\u001b[0m\u001b[37m\u001b[0m \u001b[1m5s\u001b[0m 67ms/step - loss: 1.7923e-04\n",
      "Epoch 43/50\n",
      "\u001b[1m52/52\u001b[0m \u001b[32m━━━━━━━━━━━━━━━━━━━━\u001b[0m\u001b[37m\u001b[0m \u001b[1m3s\u001b[0m 58ms/step - loss: 1.8148e-04\n",
      "Epoch 44/50\n",
      "\u001b[1m52/52\u001b[0m \u001b[32m━━━━━━━━━━━━━━━━━━━━\u001b[0m\u001b[37m\u001b[0m \u001b[1m3s\u001b[0m 57ms/step - loss: 2.1106e-04\n",
      "Epoch 45/50\n",
      "\u001b[1m52/52\u001b[0m \u001b[32m━━━━━━━━━━━━━━━━━━━━\u001b[0m\u001b[37m\u001b[0m \u001b[1m3s\u001b[0m 60ms/step - loss: 1.8243e-04\n",
      "Epoch 46/50\n",
      "\u001b[1m52/52\u001b[0m \u001b[32m━━━━━━━━━━━━━━━━━━━━\u001b[0m\u001b[37m\u001b[0m \u001b[1m5s\u001b[0m 57ms/step - loss: 1.6503e-04\n",
      "Epoch 47/50\n",
      "\u001b[1m52/52\u001b[0m \u001b[32m━━━━━━━━━━━━━━━━━━━━\u001b[0m\u001b[37m\u001b[0m \u001b[1m3s\u001b[0m 57ms/step - loss: 2.0123e-04\n",
      "Epoch 48/50\n",
      "\u001b[1m52/52\u001b[0m \u001b[32m━━━━━━━━━━━━━━━━━━━━\u001b[0m\u001b[37m\u001b[0m \u001b[1m3s\u001b[0m 58ms/step - loss: 1.7423e-04\n",
      "Epoch 49/50\n",
      "\u001b[1m52/52\u001b[0m \u001b[32m━━━━━━━━━━━━━━━━━━━━\u001b[0m\u001b[37m\u001b[0m \u001b[1m3s\u001b[0m 57ms/step - loss: 1.7622e-04\n",
      "Epoch 50/50\n",
      "\u001b[1m52/52\u001b[0m \u001b[32m━━━━━━━━━━━━━━━━━━━━\u001b[0m\u001b[37m\u001b[0m \u001b[1m3s\u001b[0m 57ms/step - loss: 3.3925e-04\n"
     ]
    },
    {
     "data": {
      "text/plain": [
       "<keras.src.callbacks.history.History at 0x220a4739fd0>"
      ]
     },
     "execution_count": 99,
     "metadata": {},
     "output_type": "execute_result"
    }
   ],
   "source": [
    "model.compile(optimizer='adam',loss='mean_squared_error')\n",
    "model.fit(x_train,y_train,epochs=50)"
   ]
  },
  {
   "cell_type": "code",
   "execution_count": 101,
   "id": "a1b53204-9121-4324-b1ab-c2f934faa68e",
   "metadata": {},
   "outputs": [
    {
     "data": {
      "text/html": [
       "<pre style=\"white-space:pre;overflow-x:auto;line-height:normal;font-family:Menlo,'DejaVu Sans Mono',consolas,'Courier New',monospace\"><span style=\"font-weight: bold\">Model: \"sequential_1\"</span>\n",
       "</pre>\n"
      ],
      "text/plain": [
       "\u001b[1mModel: \"sequential_1\"\u001b[0m\n"
      ]
     },
     "metadata": {},
     "output_type": "display_data"
    },
    {
     "data": {
      "text/html": [
       "<pre style=\"white-space:pre;overflow-x:auto;line-height:normal;font-family:Menlo,'DejaVu Sans Mono',consolas,'Courier New',monospace\">┏━━━━━━━━━━━━━━━━━━━━━━━━━━━━━━━━━━━┳━━━━━━━━━━━━━━━━━━━━━━━━━━┳━━━━━━━━━━━━━━━┓\n",
       "┃<span style=\"font-weight: bold\"> Layer (type)                      </span>┃<span style=\"font-weight: bold\"> Output Shape             </span>┃<span style=\"font-weight: bold\">       Param # </span>┃\n",
       "┡━━━━━━━━━━━━━━━━━━━━━━━━━━━━━━━━━━━╇━━━━━━━━━━━━━━━━━━━━━━━━━━╇━━━━━━━━━━━━━━━┩\n",
       "│ lstm_2 (<span style=\"color: #0087ff; text-decoration-color: #0087ff\">LSTM</span>)                     │ (<span style=\"color: #00d7ff; text-decoration-color: #00d7ff\">None</span>, <span style=\"color: #00af00; text-decoration-color: #00af00\">100</span>, <span style=\"color: #00af00; text-decoration-color: #00af00\">128</span>)         │        <span style=\"color: #00af00; text-decoration-color: #00af00\">66,560</span> │\n",
       "├───────────────────────────────────┼──────────────────────────┼───────────────┤\n",
       "│ lstm_3 (<span style=\"color: #0087ff; text-decoration-color: #0087ff\">LSTM</span>)                     │ (<span style=\"color: #00d7ff; text-decoration-color: #00d7ff\">None</span>, <span style=\"color: #00af00; text-decoration-color: #00af00\">64</span>)               │        <span style=\"color: #00af00; text-decoration-color: #00af00\">49,408</span> │\n",
       "├───────────────────────────────────┼──────────────────────────┼───────────────┤\n",
       "│ dense_2 (<span style=\"color: #0087ff; text-decoration-color: #0087ff\">Dense</span>)                   │ (<span style=\"color: #00d7ff; text-decoration-color: #00d7ff\">None</span>, <span style=\"color: #00af00; text-decoration-color: #00af00\">25</span>)               │         <span style=\"color: #00af00; text-decoration-color: #00af00\">1,625</span> │\n",
       "├───────────────────────────────────┼──────────────────────────┼───────────────┤\n",
       "│ dense_3 (<span style=\"color: #0087ff; text-decoration-color: #0087ff\">Dense</span>)                   │ (<span style=\"color: #00d7ff; text-decoration-color: #00d7ff\">None</span>, <span style=\"color: #00af00; text-decoration-color: #00af00\">1</span>)                │            <span style=\"color: #00af00; text-decoration-color: #00af00\">26</span> │\n",
       "└───────────────────────────────────┴──────────────────────────┴───────────────┘\n",
       "</pre>\n"
      ],
      "text/plain": [
       "┏━━━━━━━━━━━━━━━━━━━━━━━━━━━━━━━━━━━┳━━━━━━━━━━━━━━━━━━━━━━━━━━┳━━━━━━━━━━━━━━━┓\n",
       "┃\u001b[1m \u001b[0m\u001b[1mLayer (type)                     \u001b[0m\u001b[1m \u001b[0m┃\u001b[1m \u001b[0m\u001b[1mOutput Shape            \u001b[0m\u001b[1m \u001b[0m┃\u001b[1m \u001b[0m\u001b[1m      Param #\u001b[0m\u001b[1m \u001b[0m┃\n",
       "┡━━━━━━━━━━━━━━━━━━━━━━━━━━━━━━━━━━━╇━━━━━━━━━━━━━━━━━━━━━━━━━━╇━━━━━━━━━━━━━━━┩\n",
       "│ lstm_2 (\u001b[38;5;33mLSTM\u001b[0m)                     │ (\u001b[38;5;45mNone\u001b[0m, \u001b[38;5;34m100\u001b[0m, \u001b[38;5;34m128\u001b[0m)         │        \u001b[38;5;34m66,560\u001b[0m │\n",
       "├───────────────────────────────────┼──────────────────────────┼───────────────┤\n",
       "│ lstm_3 (\u001b[38;5;33mLSTM\u001b[0m)                     │ (\u001b[38;5;45mNone\u001b[0m, \u001b[38;5;34m64\u001b[0m)               │        \u001b[38;5;34m49,408\u001b[0m │\n",
       "├───────────────────────────────────┼──────────────────────────┼───────────────┤\n",
       "│ dense_2 (\u001b[38;5;33mDense\u001b[0m)                   │ (\u001b[38;5;45mNone\u001b[0m, \u001b[38;5;34m25\u001b[0m)               │         \u001b[38;5;34m1,625\u001b[0m │\n",
       "├───────────────────────────────────┼──────────────────────────┼───────────────┤\n",
       "│ dense_3 (\u001b[38;5;33mDense\u001b[0m)                   │ (\u001b[38;5;45mNone\u001b[0m, \u001b[38;5;34m1\u001b[0m)                │            \u001b[38;5;34m26\u001b[0m │\n",
       "└───────────────────────────────────┴──────────────────────────┴───────────────┘\n"
      ]
     },
     "metadata": {},
     "output_type": "display_data"
    },
    {
     "data": {
      "text/html": [
       "<pre style=\"white-space:pre;overflow-x:auto;line-height:normal;font-family:Menlo,'DejaVu Sans Mono',consolas,'Courier New',monospace\"><span style=\"font-weight: bold\"> Total params: </span><span style=\"color: #00af00; text-decoration-color: #00af00\">352,859</span> (1.35 MB)\n",
       "</pre>\n"
      ],
      "text/plain": [
       "\u001b[1m Total params: \u001b[0m\u001b[38;5;34m352,859\u001b[0m (1.35 MB)\n"
      ]
     },
     "metadata": {},
     "output_type": "display_data"
    },
    {
     "data": {
      "text/html": [
       "<pre style=\"white-space:pre;overflow-x:auto;line-height:normal;font-family:Menlo,'DejaVu Sans Mono',consolas,'Courier New',monospace\"><span style=\"font-weight: bold\"> Trainable params: </span><span style=\"color: #00af00; text-decoration-color: #00af00\">117,619</span> (459.45 KB)\n",
       "</pre>\n"
      ],
      "text/plain": [
       "\u001b[1m Trainable params: \u001b[0m\u001b[38;5;34m117,619\u001b[0m (459.45 KB)\n"
      ]
     },
     "metadata": {},
     "output_type": "display_data"
    },
    {
     "data": {
      "text/html": [
       "<pre style=\"white-space:pre;overflow-x:auto;line-height:normal;font-family:Menlo,'DejaVu Sans Mono',consolas,'Courier New',monospace\"><span style=\"font-weight: bold\"> Non-trainable params: </span><span style=\"color: #00af00; text-decoration-color: #00af00\">0</span> (0.00 B)\n",
       "</pre>\n"
      ],
      "text/plain": [
       "\u001b[1m Non-trainable params: \u001b[0m\u001b[38;5;34m0\u001b[0m (0.00 B)\n"
      ]
     },
     "metadata": {},
     "output_type": "display_data"
    },
    {
     "data": {
      "text/html": [
       "<pre style=\"white-space:pre;overflow-x:auto;line-height:normal;font-family:Menlo,'DejaVu Sans Mono',consolas,'Courier New',monospace\"><span style=\"font-weight: bold\"> Optimizer params: </span><span style=\"color: #00af00; text-decoration-color: #00af00\">235,240</span> (918.91 KB)\n",
       "</pre>\n"
      ],
      "text/plain": [
       "\u001b[1m Optimizer params: \u001b[0m\u001b[38;5;34m235,240\u001b[0m (918.91 KB)\n"
      ]
     },
     "metadata": {},
     "output_type": "display_data"
    }
   ],
   "source": [
    "model.summary()"
   ]
  },
  {
   "cell_type": "code",
   "execution_count": 102,
   "id": "6a199911-7692-499c-8d75-b6783e8b5a89",
   "metadata": {},
   "outputs": [],
   "source": [
    "# Save the trained model\n",
    "model.save('stock_prediction_model.keras')"
   ]
  },
  {
   "cell_type": "markdown",
   "id": "91cefff8-caa4-43bf-af77-46f4817cf90a",
   "metadata": {},
   "source": [
    "# 8. Preparing Test Data"
   ]
  },
  {
   "cell_type": "code",
   "execution_count": 103,
   "id": "09ec5777-8788-4c71-b220-7520ba5135a9",
   "metadata": {},
   "outputs": [
    {
     "data": {
      "text/html": [
       "<div>\n",
       "<style scoped>\n",
       "    .dataframe tbody tr th:only-of-type {\n",
       "        vertical-align: middle;\n",
       "    }\n",
       "\n",
       "    .dataframe tbody tr th {\n",
       "        vertical-align: top;\n",
       "    }\n",
       "\n",
       "    .dataframe thead th {\n",
       "        text-align: right;\n",
       "    }\n",
       "</style>\n",
       "<table border=\"1\" class=\"dataframe\">\n",
       "  <thead>\n",
       "    <tr style=\"text-align: right;\">\n",
       "      <th>Ticker</th>\n",
       "      <th>AAPL</th>\n",
       "    </tr>\n",
       "  </thead>\n",
       "  <tbody>\n",
       "    <tr>\n",
       "      <th>1660</th>\n",
       "      <td>172.069092</td>\n",
       "    </tr>\n",
       "    <tr>\n",
       "      <th>1661</th>\n",
       "      <td>171.558075</td>\n",
       "    </tr>\n",
       "    <tr>\n",
       "      <th>1662</th>\n",
       "      <td>176.363937</td>\n",
       "    </tr>\n",
       "    <tr>\n",
       "      <th>1663</th>\n",
       "      <td>172.717758</td>\n",
       "    </tr>\n",
       "    <tr>\n",
       "      <th>1664</th>\n",
       "      <td>171.332016</td>\n",
       "    </tr>\n",
       "    <tr>\n",
       "      <th>...</th>\n",
       "      <td>...</td>\n",
       "    </tr>\n",
       "    <tr>\n",
       "      <th>1755</th>\n",
       "      <td>154.299820</td>\n",
       "    </tr>\n",
       "    <tr>\n",
       "      <th>1756</th>\n",
       "      <td>154.073471</td>\n",
       "    </tr>\n",
       "    <tr>\n",
       "      <th>1757</th>\n",
       "      <td>161.030746</td>\n",
       "    </tr>\n",
       "    <tr>\n",
       "      <th>1758</th>\n",
       "      <td>155.136246</td>\n",
       "    </tr>\n",
       "    <tr>\n",
       "      <th>1759</th>\n",
       "      <td>155.441299</td>\n",
       "    </tr>\n",
       "  </tbody>\n",
       "</table>\n",
       "<p>100 rows × 1 columns</p>\n",
       "</div>"
      ],
      "text/plain": [
       "Ticker        AAPL\n",
       "1660    172.069092\n",
       "1661    171.558075\n",
       "1662    176.363937\n",
       "1663    172.717758\n",
       "1664    171.332016\n",
       "...            ...\n",
       "1755    154.299820\n",
       "1756    154.073471\n",
       "1757    161.030746\n",
       "1758    155.136246\n",
       "1759    155.441299\n",
       "\n",
       "[100 rows x 1 columns]"
      ]
     },
     "execution_count": 103,
     "metadata": {},
     "output_type": "execute_result"
    }
   ],
   "source": [
    "data_training.tail(100)"
   ]
  },
  {
   "cell_type": "code",
   "execution_count": 104,
   "id": "2eb5122e-2de4-4533-b873-597228ae3556",
   "metadata": {},
   "outputs": [
    {
     "data": {
      "text/html": [
       "<div>\n",
       "<style scoped>\n",
       "    .dataframe tbody tr th:only-of-type {\n",
       "        vertical-align: middle;\n",
       "    }\n",
       "\n",
       "    .dataframe tbody tr th {\n",
       "        vertical-align: top;\n",
       "    }\n",
       "\n",
       "    .dataframe thead th {\n",
       "        text-align: right;\n",
       "    }\n",
       "</style>\n",
       "<table border=\"1\" class=\"dataframe\">\n",
       "  <thead>\n",
       "    <tr style=\"text-align: right;\">\n",
       "      <th>Ticker</th>\n",
       "      <th>AAPL</th>\n",
       "    </tr>\n",
       "  </thead>\n",
       "  <tbody>\n",
       "    <tr>\n",
       "      <th>1760</th>\n",
       "      <td>156.937057</td>\n",
       "    </tr>\n",
       "    <tr>\n",
       "      <th>1761</th>\n",
       "      <td>163.372772</td>\n",
       "    </tr>\n",
       "    <tr>\n",
       "      <th>1762</th>\n",
       "      <td>154.270294</td>\n",
       "    </tr>\n",
       "    <tr>\n",
       "      <th>1763</th>\n",
       "      <td>154.999542</td>\n",
       "    </tr>\n",
       "    <tr>\n",
       "      <th>1764</th>\n",
       "      <td>149.855209</td>\n",
       "    </tr>\n",
       "    <tr>\n",
       "      <th>...</th>\n",
       "      <td>...</td>\n",
       "    </tr>\n",
       "    <tr>\n",
       "      <th>2510</th>\n",
       "      <td>212.500000</td>\n",
       "    </tr>\n",
       "    <tr>\n",
       "      <th>2511</th>\n",
       "      <td>213.320007</td>\n",
       "    </tr>\n",
       "    <tr>\n",
       "      <th>2512</th>\n",
       "      <td>205.350006</td>\n",
       "    </tr>\n",
       "    <tr>\n",
       "      <th>2513</th>\n",
       "      <td>198.889999</td>\n",
       "    </tr>\n",
       "    <tr>\n",
       "      <th>2514</th>\n",
       "      <td>198.509995</td>\n",
       "    </tr>\n",
       "  </tbody>\n",
       "</table>\n",
       "<p>755 rows × 1 columns</p>\n",
       "</div>"
      ],
      "text/plain": [
       "Ticker        AAPL\n",
       "1760    156.937057\n",
       "1761    163.372772\n",
       "1762    154.270294\n",
       "1763    154.999542\n",
       "1764    149.855209\n",
       "...            ...\n",
       "2510    212.500000\n",
       "2511    213.320007\n",
       "2512    205.350006\n",
       "2513    198.889999\n",
       "2514    198.509995\n",
       "\n",
       "[755 rows x 1 columns]"
      ]
     },
     "execution_count": 104,
     "metadata": {},
     "output_type": "execute_result"
    }
   ],
   "source": [
    "data_testing\n"
   ]
  },
  {
   "cell_type": "code",
   "execution_count": 106,
   "id": "d081e521-c7d2-46b5-a5fa-55e2ab0645aa",
   "metadata": {},
   "outputs": [
    {
     "data": {
      "text/html": [
       "<div>\n",
       "<style scoped>\n",
       "    .dataframe tbody tr th:only-of-type {\n",
       "        vertical-align: middle;\n",
       "    }\n",
       "\n",
       "    .dataframe tbody tr th {\n",
       "        vertical-align: top;\n",
       "    }\n",
       "\n",
       "    .dataframe thead th {\n",
       "        text-align: right;\n",
       "    }\n",
       "</style>\n",
       "<table border=\"1\" class=\"dataframe\">\n",
       "  <thead>\n",
       "    <tr style=\"text-align: right;\">\n",
       "      <th>Ticker</th>\n",
       "      <th>AAPL</th>\n",
       "    </tr>\n",
       "  </thead>\n",
       "  <tbody>\n",
       "    <tr>\n",
       "      <th>1660</th>\n",
       "      <td>172.069092</td>\n",
       "    </tr>\n",
       "    <tr>\n",
       "      <th>1661</th>\n",
       "      <td>171.558075</td>\n",
       "    </tr>\n",
       "    <tr>\n",
       "      <th>1662</th>\n",
       "      <td>176.363937</td>\n",
       "    </tr>\n",
       "    <tr>\n",
       "      <th>1663</th>\n",
       "      <td>172.717758</td>\n",
       "    </tr>\n",
       "    <tr>\n",
       "      <th>1664</th>\n",
       "      <td>171.332016</td>\n",
       "    </tr>\n",
       "    <tr>\n",
       "      <th>...</th>\n",
       "      <td>...</td>\n",
       "    </tr>\n",
       "    <tr>\n",
       "      <th>1755</th>\n",
       "      <td>154.299820</td>\n",
       "    </tr>\n",
       "    <tr>\n",
       "      <th>1756</th>\n",
       "      <td>154.073471</td>\n",
       "    </tr>\n",
       "    <tr>\n",
       "      <th>1757</th>\n",
       "      <td>161.030746</td>\n",
       "    </tr>\n",
       "    <tr>\n",
       "      <th>1758</th>\n",
       "      <td>155.136246</td>\n",
       "    </tr>\n",
       "    <tr>\n",
       "      <th>1759</th>\n",
       "      <td>155.441299</td>\n",
       "    </tr>\n",
       "  </tbody>\n",
       "</table>\n",
       "<p>100 rows × 1 columns</p>\n",
       "</div>"
      ],
      "text/plain": [
       "Ticker        AAPL\n",
       "1660    172.069092\n",
       "1661    171.558075\n",
       "1662    176.363937\n",
       "1663    172.717758\n",
       "1664    171.332016\n",
       "...            ...\n",
       "1755    154.299820\n",
       "1756    154.073471\n",
       "1757    161.030746\n",
       "1758    155.136246\n",
       "1759    155.441299\n",
       "\n",
       "[100 rows x 1 columns]"
      ]
     },
     "execution_count": 106,
     "metadata": {},
     "output_type": "execute_result"
    }
   ],
   "source": [
    "past_100_days = data_training.tail(100)\n",
    "past_100_days"
   ]
  },
  {
   "cell_type": "code",
   "execution_count": 107,
   "id": "493c4341-9b79-427c-9cd8-9bd124698fc5",
   "metadata": {},
   "outputs": [
    {
     "data": {
      "text/html": [
       "<div>\n",
       "<style scoped>\n",
       "    .dataframe tbody tr th:only-of-type {\n",
       "        vertical-align: middle;\n",
       "    }\n",
       "\n",
       "    .dataframe tbody tr th {\n",
       "        vertical-align: top;\n",
       "    }\n",
       "\n",
       "    .dataframe thead th {\n",
       "        text-align: right;\n",
       "    }\n",
       "</style>\n",
       "<table border=\"1\" class=\"dataframe\">\n",
       "  <thead>\n",
       "    <tr style=\"text-align: right;\">\n",
       "      <th>Ticker</th>\n",
       "      <th>AAPL</th>\n",
       "    </tr>\n",
       "  </thead>\n",
       "  <tbody>\n",
       "    <tr>\n",
       "      <th>0</th>\n",
       "      <td>172.069092</td>\n",
       "    </tr>\n",
       "    <tr>\n",
       "      <th>1</th>\n",
       "      <td>171.558075</td>\n",
       "    </tr>\n",
       "    <tr>\n",
       "      <th>2</th>\n",
       "      <td>176.363937</td>\n",
       "    </tr>\n",
       "    <tr>\n",
       "      <th>3</th>\n",
       "      <td>172.717758</td>\n",
       "    </tr>\n",
       "    <tr>\n",
       "      <th>4</th>\n",
       "      <td>171.332016</td>\n",
       "    </tr>\n",
       "    <tr>\n",
       "      <th>...</th>\n",
       "      <td>...</td>\n",
       "    </tr>\n",
       "    <tr>\n",
       "      <th>850</th>\n",
       "      <td>212.500000</td>\n",
       "    </tr>\n",
       "    <tr>\n",
       "      <th>851</th>\n",
       "      <td>213.320007</td>\n",
       "    </tr>\n",
       "    <tr>\n",
       "      <th>852</th>\n",
       "      <td>205.350006</td>\n",
       "    </tr>\n",
       "    <tr>\n",
       "      <th>853</th>\n",
       "      <td>198.889999</td>\n",
       "    </tr>\n",
       "    <tr>\n",
       "      <th>854</th>\n",
       "      <td>198.509995</td>\n",
       "    </tr>\n",
       "  </tbody>\n",
       "</table>\n",
       "<p>855 rows × 1 columns</p>\n",
       "</div>"
      ],
      "text/plain": [
       "Ticker        AAPL\n",
       "0       172.069092\n",
       "1       171.558075\n",
       "2       176.363937\n",
       "3       172.717758\n",
       "4       171.332016\n",
       "..             ...\n",
       "850     212.500000\n",
       "851     213.320007\n",
       "852     205.350006\n",
       "853     198.889999\n",
       "854     198.509995\n",
       "\n",
       "[855 rows x 1 columns]"
      ]
     },
     "execution_count": 107,
     "metadata": {},
     "output_type": "execute_result"
    }
   ],
   "source": [
    "final_df = pd.concat([past_100_days, data_testing], ignore_index=True)\n",
    "final_df"
   ]
  },
  {
   "cell_type": "code",
   "execution_count": 111,
   "id": "0f8e1c2e-c83f-41da-87d5-d50abeb8abd0",
   "metadata": {},
   "outputs": [],
   "source": [
    "input_data = scaler.fit_transform(final_df)\n",
    "# input_data"
   ]
  },
  {
   "cell_type": "code",
   "execution_count": 109,
   "id": "5c5af0e7-ba5a-4554-a453-ef149cfcad75",
   "metadata": {},
   "outputs": [
    {
     "data": {
      "text/plain": [
       "(855, 1)"
      ]
     },
     "execution_count": 109,
     "metadata": {},
     "output_type": "execute_result"
    }
   ],
   "source": [
    "input_data.shape"
   ]
  },
  {
   "cell_type": "code",
   "execution_count": 113,
   "id": "7bffff4f-80fc-45ef-92a6-d0bfa8bf2e55",
   "metadata": {},
   "outputs": [],
   "source": [
    "x_test = []\n",
    "y_test = []\n",
    "for i in range(100,input_data.shape[0]):\n",
    "    x_test.append(input_data[i-100: i])\n",
    "    y_test.append(input_data[i,0])"
   ]
  },
  {
   "cell_type": "code",
   "execution_count": 114,
   "id": "8653a30d-9119-499c-b433-3bcaedbb2c71",
   "metadata": {},
   "outputs": [],
   "source": [
    "x_test, y_test = np.array(x_test), np.array(y_test)"
   ]
  },
  {
   "cell_type": "code",
   "execution_count": 115,
   "id": "5fd47a0c-ab76-408b-8345-bc78430609a6",
   "metadata": {},
   "outputs": [
    {
     "data": {
      "text/plain": [
       "(100, 1)"
      ]
     },
     "execution_count": 115,
     "metadata": {},
     "output_type": "execute_result"
    }
   ],
   "source": [
    "x_test[0].shape"
   ]
  },
  {
   "cell_type": "code",
   "execution_count": 116,
   "id": "a45aafb3-934d-4edd-9ff5-9553c074b820",
   "metadata": {},
   "outputs": [
    {
     "data": {
      "text/plain": [
       "array([[[0.3587505 ],\n",
       "        [0.35496946],\n",
       "        [0.39052829],\n",
       "        ...,\n",
       "        [0.27707718],\n",
       "        [0.23346345],\n",
       "        [0.23572056]],\n",
       "\n",
       "       [[0.35496946],\n",
       "        [0.39052829],\n",
       "        [0.36355002],\n",
       "        ...,\n",
       "        [0.23346345],\n",
       "        [0.23572056],\n",
       "        [0.24678775]],\n",
       "\n",
       "       [[0.39052829],\n",
       "        [0.36355002],\n",
       "        [0.35329683],\n",
       "        ...,\n",
       "        [0.23572056],\n",
       "        [0.24678775],\n",
       "        [0.29440596]],\n",
       "\n",
       "       ...,\n",
       "\n",
       "       [[0.88189309],\n",
       "        [0.88041488],\n",
       "        [0.90931349],\n",
       "        ...,\n",
       "        [0.64835626],\n",
       "        [0.65790099],\n",
       "        [0.66396827]],\n",
       "\n",
       "       [[0.88041488],\n",
       "        [0.90931349],\n",
       "        [0.9168522 ],\n",
       "        ...,\n",
       "        [0.65790099],\n",
       "        [0.66396827],\n",
       "        [0.60499779]],\n",
       "\n",
       "       [[0.90931349],\n",
       "        [0.9168522 ],\n",
       "        [0.90739181],\n",
       "        ...,\n",
       "        [0.66396827],\n",
       "        [0.60499779],\n",
       "        [0.55719985]]])"
      ]
     },
     "execution_count": 116,
     "metadata": {},
     "output_type": "execute_result"
    }
   ],
   "source": [
    "x_test"
   ]
  },
  {
   "cell_type": "markdown",
   "id": "05eaf593-ebed-4a5a-930f-140b57014507",
   "metadata": {},
   "source": [
    "# 9. Making Predictions"
   ]
  },
  {
   "cell_type": "code",
   "execution_count": 117,
   "id": "59a78a3f-0e48-4539-a905-cd6e201a63e5",
   "metadata": {},
   "outputs": [
    {
     "name": "stdout",
     "output_type": "stream",
     "text": [
      "\u001b[1m24/24\u001b[0m \u001b[32m━━━━━━━━━━━━━━━━━━━━\u001b[0m\u001b[37m\u001b[0m \u001b[1m1s\u001b[0m 32ms/step \n"
     ]
    }
   ],
   "source": [
    "y_predicted = model.predict(x_test)"
   ]
  },
  {
   "cell_type": "code",
   "execution_count": 119,
   "id": "1a95b3bc-e5b2-4e67-b849-134178a48462",
   "metadata": {},
   "outputs": [],
   "source": [
    "# y_predicted"
   ]
  },
  {
   "cell_type": "code",
   "execution_count": 121,
   "id": "fa62f147-925c-4b67-8c08-ada1d4415366",
   "metadata": {},
   "outputs": [],
   "source": [
    " # y_test"
   ]
  },
  {
   "cell_type": "code",
   "execution_count": 122,
   "id": "093a608d-032a-491b-bd64-eea4dde25505",
   "metadata": {},
   "outputs": [],
   "source": [
    "y_predicted = scaler.inverse_transform(y_predicted.reshape(-1,1)).flatten()\n",
    "y_test = scaler.inverse_transform(y_test.reshape(-1,1)).flatten()"
   ]
  },
  {
   "cell_type": "code",
   "execution_count": 124,
   "id": "649c3c2a-f247-4dce-a2a8-f22866ffa401",
   "metadata": {},
   "outputs": [],
   "source": [
    "# y_predicted"
   ]
  },
  {
   "cell_type": "code",
   "execution_count": 126,
   "id": "89dcc5a0-db76-43e1-bfc5-31d452824c0e",
   "metadata": {},
   "outputs": [],
   "source": [
    "# y_test"
   ]
  },
  {
   "cell_type": "code",
   "execution_count": 127,
   "id": "4439d0b3-1bcb-4b20-bef4-910df408b9b6",
   "metadata": {},
   "outputs": [
    {
     "data": {
      "text/plain": [
       "<matplotlib.legend.Legend at 0x220ae0a4b90>"
      ]
     },
     "execution_count": 127,
     "metadata": {},
     "output_type": "execute_result"
    },
    {
     "data": {
      "image/png": "[encoded data removed]",
      "text/plain": [
       "<Figure size 1200x600 with 1 Axes>"
      ]
     },
     "metadata": {},
     "output_type": "display_data"
    }
   ],
   "source": [
    "plt.figure(figsize=(12, 6))\n",
    "plt.plot(y_test, 'b', label='Original Price')\n",
    "plt.plot(y_predicted, 'r', label='Predicted Price')\n",
    "plt.xlabel('Days')\n",
    "plt.ylabel('Price')\n",
    "plt.legend()"
   ]
  },
  {
   "cell_type": "code",
   "execution_count": 129,
   "id": "d2f9e313-159d-4a48-aee3-6dd848f731f8",
   "metadata": {},
   "outputs": [
    {
     "data": {
      "text/plain": [
       "(140.0, 220.0)"
      ]
     },
     "execution_count": 129,
     "metadata": {},
     "output_type": "execute_result"
    },
    {
     "data": {
      "image/png": "[encoded data removed]",
      "text/plain": [
       "<Figure size 1200x600 with 1 Axes>"
      ]
     },
     "metadata": {},
     "output_type": "display_data"
    }
   ],
   "source": [
    "plt.figure(figsize=(12, 6))\n",
    "plt.plot(y_test, 'b', label='Original Price')\n",
    "plt.plot(y_predicted, 'r', label='Predicted Price')\n",
    "plt.xlabel('Days')\n",
    "plt.ylabel('Price')\n",
    "plt.legend()\n",
    "plt.xlim(450, 750)\n",
    "plt.ylim(140, 220)"
   ]
  },
  {
   "cell_type": "markdown",
   "id": "74b32ac6-726c-4ade-910c-60a7f1f5151c",
   "metadata": {},
   "source": [
    "# 10. Model Evaluation"
   ]
  },
  {
   "cell_type": "code",
   "execution_count": 130,
   "id": "a575b11a-572b-43f0-8753-528919845181",
   "metadata": {},
   "outputs": [],
   "source": [
    "# Mean Squared Error (MSE)\n",
    "from sklearn.metrics import mean_squared_error, r2_score"
   ]
  },
  {
   "cell_type": "code",
   "execution_count": 131,
   "id": "dc108969-aeaa-4601-bbe3-3dc74d89cb57",
   "metadata": {},
   "outputs": [
    {
     "name": "stdout",
     "output_type": "stream",
     "text": [
      "Mean Squared Error (MSE): 16.750202400482102\n"
     ]
    }
   ],
   "source": [
    "mse = mean_squared_error(y_test, y_predicted)\n",
    "print(f\"Mean Squared Error (MSE): {mse}\")"
   ]
  },
  {
   "cell_type": "code",
   "execution_count": 132,
   "id": "4d3af46d-2405-4c1c-9cfb-3694b0384d8c",
   "metadata": {},
   "outputs": [
    {
     "name": "stdout",
     "output_type": "stream",
     "text": [
      "Root Mean Squared Error (RMSE): 4.092701113015963\n"
     ]
    }
   ],
   "source": [
    "# Root Mean Squared Error (RMSE)\n",
    "rmse = np.sqrt(mse)\n",
    "print(f\"Root Mean Squared Error (RMSE): {rmse}\")"
   ]
  },
  {
   "cell_type": "code",
   "execution_count": 134,
   "id": "03f488d9-cfdc-41fa-9b3d-9046b96cd12d",
   "metadata": {},
   "outputs": [
    {
     "name": "stdout",
     "output_type": "stream",
     "text": [
      "R-Squared: 0.9845293583774215\n"
     ]
    }
   ],
   "source": [
    "# R-Squared\n",
    "r2 = r2_score(y_test, y_predicted)\n",
    "print(f\"R-Squared: {r2}\")"
   ]
  },
  {
   "cell_type": "code",
   "execution_count": null,
   "id": "af616512-21e0-4f94-aa0c-8093cb740c42",
   "metadata": {},
   "outputs": [],
   "source": []
  }
 ],
 "metadata": {
  "kernelspec": {
   "display_name": "Python 3 (ipykernel)",
   "language": "python",
   "name": "python3"
  },
  "language_info": {
   "codemirror_mode": {
    "name": "ipython",
    "version": 3
   },
   "file_extension": ".py",
   "mimetype": "text/x-python",
   "name": "python",
   "nbconvert_exporter": "python",
   "pygments_lexer": "ipython3",
   "version": "3.11.11"
  }
 },
 "nbformat": 4,
 "nbformat_minor": 5
}
